{
 "cells": [
  {
   "cell_type": "code",
   "execution_count": 1,
   "metadata": {},
   "outputs": [],
   "source": [
    "import pandas as pd"
   ]
  },
  {
   "cell_type": "code",
   "execution_count": 2,
   "metadata": {},
   "outputs": [],
   "source": [
    "df = pd.read_csv(\"test.csv\")"
   ]
  },
  {
   "cell_type": "code",
   "execution_count": 8,
   "metadata": {},
   "outputs": [],
   "source": [
    "df = df[[\"0\", \"1\", \"2\"]]"
   ]
  },
  {
   "cell_type": "code",
   "execution_count": 10,
   "metadata": {},
   "outputs": [],
   "source": [
    "df.columns = [\"Home\", \"Away\", \"Date\"]"
   ]
  },
  {
   "cell_type": "code",
   "execution_count": 14,
   "metadata": {},
   "outputs": [
    {
     "data": {
      "text/html": [
       "<div>\n",
       "<style scoped>\n",
       "    .dataframe tbody tr th:only-of-type {\n",
       "        vertical-align: middle;\n",
       "    }\n",
       "\n",
       "    .dataframe tbody tr th {\n",
       "        vertical-align: top;\n",
       "    }\n",
       "\n",
       "    .dataframe thead th {\n",
       "        text-align: right;\n",
       "    }\n",
       "</style>\n",
       "<table border=\"1\" class=\"dataframe\">\n",
       "  <thead>\n",
       "    <tr style=\"text-align: right;\">\n",
       "      <th></th>\n",
       "      <th>Home</th>\n",
       "      <th>Away</th>\n",
       "      <th>Date</th>\n",
       "    </tr>\n",
       "  </thead>\n",
       "  <tbody>\n",
       "    <tr>\n",
       "      <th>0</th>\n",
       "      <td>Giants</td>\n",
       "      <td>Nationals</td>\n",
       "      <td>2024-03-19</td>\n",
       "    </tr>\n",
       "    <tr>\n",
       "      <th>162</th>\n",
       "      <td>Phillies</td>\n",
       "      <td>Dodgers</td>\n",
       "      <td>2024-03-19</td>\n",
       "    </tr>\n",
       "    <tr>\n",
       "      <th>311</th>\n",
       "      <td>Reds</td>\n",
       "      <td>Padres</td>\n",
       "      <td>2024-03-19</td>\n",
       "    </tr>\n",
       "    <tr>\n",
       "      <th>447</th>\n",
       "      <td>Mets</td>\n",
       "      <td>Rockies</td>\n",
       "      <td>2024-03-19</td>\n",
       "    </tr>\n",
       "    <tr>\n",
       "      <th>570</th>\n",
       "      <td>Mets</td>\n",
       "      <td>Diamondbacks</td>\n",
       "      <td>2024-03-19</td>\n",
       "    </tr>\n",
       "    <tr>\n",
       "      <th>680</th>\n",
       "      <td>Athletics</td>\n",
       "      <td>Cardinals</td>\n",
       "      <td>2024-03-19</td>\n",
       "    </tr>\n",
       "    <tr>\n",
       "      <th>810</th>\n",
       "      <td>Brewers</td>\n",
       "      <td>Rangers</td>\n",
       "      <td>2024-03-19</td>\n",
       "    </tr>\n",
       "    <tr>\n",
       "      <th>927</th>\n",
       "      <td>Orioles</td>\n",
       "      <td>Reds</td>\n",
       "      <td>2024-03-19</td>\n",
       "    </tr>\n",
       "    <tr>\n",
       "      <th>1455</th>\n",
       "      <td>Angels</td>\n",
       "      <td>Braves</td>\n",
       "      <td>2024-03-19</td>\n",
       "    </tr>\n",
       "    <tr>\n",
       "      <th>1676</th>\n",
       "      <td>Rangers</td>\n",
       "      <td>Guardians</td>\n",
       "      <td>2024-03-19</td>\n",
       "    </tr>\n",
       "    <tr>\n",
       "      <th>1779</th>\n",
       "      <td>Guardians</td>\n",
       "      <td>Mariners</td>\n",
       "      <td>2024-03-19</td>\n",
       "    </tr>\n",
       "    <tr>\n",
       "      <th>1946</th>\n",
       "      <td>Astros</td>\n",
       "      <td>Royals</td>\n",
       "      <td>2024-03-19</td>\n",
       "    </tr>\n",
       "    <tr>\n",
       "      <th>2010</th>\n",
       "      <td>Royals</td>\n",
       "      <td>Rays</td>\n",
       "      <td>2024-03-19</td>\n",
       "    </tr>\n",
       "    <tr>\n",
       "      <th>2268</th>\n",
       "      <td>Rays</td>\n",
       "      <td>Tigers</td>\n",
       "      <td>2024-03-19</td>\n",
       "    </tr>\n",
       "  </tbody>\n",
       "</table>\n",
       "</div>"
      ],
      "text/plain": [
       "           Home          Away        Date\n",
       "0        Giants     Nationals  2024-03-19\n",
       "162    Phillies       Dodgers  2024-03-19\n",
       "311        Reds        Padres  2024-03-19\n",
       "447        Mets       Rockies  2024-03-19\n",
       "570        Mets  Diamondbacks  2024-03-19\n",
       "680   Athletics     Cardinals  2024-03-19\n",
       "810     Brewers       Rangers  2024-03-19\n",
       "927     Orioles          Reds  2024-03-19\n",
       "1455     Angels        Braves  2024-03-19\n",
       "1676    Rangers     Guardians  2024-03-19\n",
       "1779  Guardians      Mariners  2024-03-19\n",
       "1946     Astros        Royals  2024-03-19\n",
       "2010     Royals          Rays  2024-03-19\n",
       "2268       Rays        Tigers  2024-03-19"
      ]
     },
     "execution_count": 14,
     "metadata": {},
     "output_type": "execute_result"
    }
   ],
   "source": [
    "df[df['Date'] == \"2024-03-19\"]"
   ]
  },
  {
   "cell_type": "code",
   "execution_count": 27,
   "metadata": {},
   "outputs": [
    {
     "data": {
      "text/html": [
       "<div>\n",
       "<style scoped>\n",
       "    .dataframe tbody tr th:only-of-type {\n",
       "        vertical-align: middle;\n",
       "    }\n",
       "\n",
       "    .dataframe tbody tr th {\n",
       "        vertical-align: top;\n",
       "    }\n",
       "\n",
       "    .dataframe thead th {\n",
       "        text-align: right;\n",
       "    }\n",
       "</style>\n",
       "<table border=\"1\" class=\"dataframe\">\n",
       "  <thead>\n",
       "    <tr style=\"text-align: right;\">\n",
       "      <th></th>\n",
       "      <th>Home</th>\n",
       "      <th>Away</th>\n",
       "      <th>Date</th>\n",
       "    </tr>\n",
       "  </thead>\n",
       "  <tbody>\n",
       "    <tr>\n",
       "      <th>1455</th>\n",
       "      <td>Angels</td>\n",
       "      <td>Braves</td>\n",
       "      <td>2024-03-19</td>\n",
       "    </tr>\n",
       "    <tr>\n",
       "      <th>680</th>\n",
       "      <td>Athletics</td>\n",
       "      <td>Cardinals</td>\n",
       "      <td>2024-03-19</td>\n",
       "    </tr>\n",
       "    <tr>\n",
       "      <th>570</th>\n",
       "      <td>Mets</td>\n",
       "      <td>Diamondbacks</td>\n",
       "      <td>2024-03-19</td>\n",
       "    </tr>\n",
       "    <tr>\n",
       "      <th>162</th>\n",
       "      <td>Phillies</td>\n",
       "      <td>Dodgers</td>\n",
       "      <td>2024-03-19</td>\n",
       "    </tr>\n",
       "    <tr>\n",
       "      <th>1676</th>\n",
       "      <td>Rangers</td>\n",
       "      <td>Guardians</td>\n",
       "      <td>2024-03-19</td>\n",
       "    </tr>\n",
       "    <tr>\n",
       "      <th>1779</th>\n",
       "      <td>Guardians</td>\n",
       "      <td>Mariners</td>\n",
       "      <td>2024-03-19</td>\n",
       "    </tr>\n",
       "    <tr>\n",
       "      <th>0</th>\n",
       "      <td>Giants</td>\n",
       "      <td>Nationals</td>\n",
       "      <td>2024-03-19</td>\n",
       "    </tr>\n",
       "    <tr>\n",
       "      <th>311</th>\n",
       "      <td>Reds</td>\n",
       "      <td>Padres</td>\n",
       "      <td>2024-03-19</td>\n",
       "    </tr>\n",
       "    <tr>\n",
       "      <th>810</th>\n",
       "      <td>Brewers</td>\n",
       "      <td>Rangers</td>\n",
       "      <td>2024-03-19</td>\n",
       "    </tr>\n",
       "    <tr>\n",
       "      <th>2010</th>\n",
       "      <td>Royals</td>\n",
       "      <td>Rays</td>\n",
       "      <td>2024-03-19</td>\n",
       "    </tr>\n",
       "    <tr>\n",
       "      <th>927</th>\n",
       "      <td>Orioles</td>\n",
       "      <td>Reds</td>\n",
       "      <td>2024-03-19</td>\n",
       "    </tr>\n",
       "    <tr>\n",
       "      <th>447</th>\n",
       "      <td>Mets</td>\n",
       "      <td>Rockies</td>\n",
       "      <td>2024-03-19</td>\n",
       "    </tr>\n",
       "    <tr>\n",
       "      <th>1946</th>\n",
       "      <td>Astros</td>\n",
       "      <td>Royals</td>\n",
       "      <td>2024-03-19</td>\n",
       "    </tr>\n",
       "    <tr>\n",
       "      <th>2268</th>\n",
       "      <td>Rays</td>\n",
       "      <td>Tigers</td>\n",
       "      <td>2024-03-19</td>\n",
       "    </tr>\n",
       "  </tbody>\n",
       "</table>\n",
       "</div>"
      ],
      "text/plain": [
       "           Home          Away        Date\n",
       "1455     Angels        Braves  2024-03-19\n",
       "680   Athletics     Cardinals  2024-03-19\n",
       "570        Mets  Diamondbacks  2024-03-19\n",
       "162    Phillies       Dodgers  2024-03-19\n",
       "1676    Rangers     Guardians  2024-03-19\n",
       "1779  Guardians      Mariners  2024-03-19\n",
       "0        Giants     Nationals  2024-03-19\n",
       "311        Reds        Padres  2024-03-19\n",
       "810     Brewers       Rangers  2024-03-19\n",
       "2010     Royals          Rays  2024-03-19\n",
       "927     Orioles          Reds  2024-03-19\n",
       "447        Mets       Rockies  2024-03-19\n",
       "1946     Astros        Royals  2024-03-19\n",
       "2268       Rays        Tigers  2024-03-19"
      ]
     },
     "execution_count": 27,
     "metadata": {},
     "output_type": "execute_result"
    }
   ],
   "source": [
    "df[df[\"Date\"] == \"2024-03-19\"].sort_values(\"Away\")"
   ]
  },
  {
   "cell_type": "code",
   "execution_count": 29,
   "metadata": {},
   "outputs": [
    {
     "data": {
      "text/html": [
       "<div>\n",
       "<style scoped>\n",
       "    .dataframe tbody tr th:only-of-type {\n",
       "        vertical-align: middle;\n",
       "    }\n",
       "\n",
       "    .dataframe tbody tr th {\n",
       "        vertical-align: top;\n",
       "    }\n",
       "\n",
       "    .dataframe thead th {\n",
       "        text-align: right;\n",
       "    }\n",
       "</style>\n",
       "<table border=\"1\" class=\"dataframe\">\n",
       "  <thead>\n",
       "    <tr style=\"text-align: right;\">\n",
       "      <th></th>\n",
       "      <th>Home</th>\n",
       "      <th>Away</th>\n",
       "      <th>Date</th>\n",
       "    </tr>\n",
       "  </thead>\n",
       "  <tbody>\n",
       "    <tr>\n",
       "      <th>0</th>\n",
       "      <td>Giants</td>\n",
       "      <td>Nationals</td>\n",
       "      <td>2024-03-19</td>\n",
       "    </tr>\n",
       "    <tr>\n",
       "      <th>1</th>\n",
       "      <td>Giants</td>\n",
       "      <td>Nationals</td>\n",
       "      <td>2024-03-20</td>\n",
       "    </tr>\n",
       "    <tr>\n",
       "      <th>2</th>\n",
       "      <td>Giants</td>\n",
       "      <td>Nationals</td>\n",
       "      <td>2024-03-21</td>\n",
       "    </tr>\n",
       "    <tr>\n",
       "      <th>3</th>\n",
       "      <td>Giants</td>\n",
       "      <td>Rockies</td>\n",
       "      <td>2024-03-22</td>\n",
       "    </tr>\n",
       "    <tr>\n",
       "      <th>4</th>\n",
       "      <td>Giants</td>\n",
       "      <td>Rockies</td>\n",
       "      <td>2024-03-23</td>\n",
       "    </tr>\n",
       "    <tr>\n",
       "      <th>...</th>\n",
       "      <td>...</td>\n",
       "      <td>...</td>\n",
       "      <td>...</td>\n",
       "    </tr>\n",
       "    <tr>\n",
       "      <th>157</th>\n",
       "      <td>Marlins</td>\n",
       "      <td>Giants</td>\n",
       "      <td>2024-09-18</td>\n",
       "    </tr>\n",
       "    <tr>\n",
       "      <th>158</th>\n",
       "      <td>Marlins</td>\n",
       "      <td>Giants</td>\n",
       "      <td>2024-09-19</td>\n",
       "    </tr>\n",
       "    <tr>\n",
       "      <th>159</th>\n",
       "      <td>Giants</td>\n",
       "      <td>Mariners</td>\n",
       "      <td>2024-09-20</td>\n",
       "    </tr>\n",
       "    <tr>\n",
       "      <th>160</th>\n",
       "      <td>Giants</td>\n",
       "      <td>Mariners</td>\n",
       "      <td>2024-09-21</td>\n",
       "    </tr>\n",
       "    <tr>\n",
       "      <th>161</th>\n",
       "      <td>Giants</td>\n",
       "      <td>Mariners</td>\n",
       "      <td>2024-09-22</td>\n",
       "    </tr>\n",
       "  </tbody>\n",
       "</table>\n",
       "<p>162 rows × 3 columns</p>\n",
       "</div>"
      ],
      "text/plain": [
       "        Home       Away        Date\n",
       "0     Giants  Nationals  2024-03-19\n",
       "1     Giants  Nationals  2024-03-20\n",
       "2     Giants  Nationals  2024-03-21\n",
       "3     Giants    Rockies  2024-03-22\n",
       "4     Giants    Rockies  2024-03-23\n",
       "..       ...        ...         ...\n",
       "157  Marlins     Giants  2024-09-18\n",
       "158  Marlins     Giants  2024-09-19\n",
       "159   Giants   Mariners  2024-09-20\n",
       "160   Giants   Mariners  2024-09-21\n",
       "161   Giants   Mariners  2024-09-22\n",
       "\n",
       "[162 rows x 3 columns]"
      ]
     },
     "execution_count": 29,
     "metadata": {},
     "output_type": "execute_result"
    }
   ],
   "source": [
    "df[(df[\"Home\"] == \"Giants\") | (df[\"Away\"] == \"Giants\")]"
   ]
  },
  {
   "cell_type": "code",
   "execution_count": 30,
   "metadata": {},
   "outputs": [],
   "source": [
    "import datetime"
   ]
  },
  {
   "cell_type": "code",
   "execution_count": 87,
   "metadata": {},
   "outputs": [],
   "source": [
    "dic = {'Angels': {datetime.date(2024, 7, 12): ('Angels', 'Athletics', 4, 1), datetime.date(2024, 8, 2): ('Angels', 'Mets', 3, 1), datetime.date(2024, 9, 13): ('Angels', 'Royals', 4, 1), datetime.date(2024, 5, 3): ('Angels', 'Mariners', 4, 1), datetime.date(2024, 4, 19): ('Angels', 'Tigers', 4, 1), datetime.date(2024, 6, 14): ('Angels', 'Astros', 4, 1), datetime.date(2024, 6, 28): ('Angels', 'Rangers', 4, 1), datetime.date(2024, 9, 6): ('Angels', 'Yankees', 4, 1), datetime.date(2024, 3, 22): ('Angels', 'White Sox', 3, 1), datetime.date(2024, 6, 7): ('Angels', 'Dodgers', 3, 1), datetime.date(2024, 4, 26): ('White Sox', 'Angels', 3, 1), datetime.date(2024, 8, 9): ('Angels', 'Marlins', 3, 1), datetime.date(2024, 7, 5): ('Rays', 'Angels', 3, 1), datetime.date(2024, 8, 23): ('Giants', 'Angels', 2, 1), datetime.date(2024, 5, 10): ('Angels', 'Braves', 3, 1), datetime.date(2024, 8, 16): ('Angels', 'Cardinals', 3, 1), datetime.date(2024, 5, 17): ('Astros', 'Angels', 3, 1), datetime.date(2024, 3, 29): ('Angels', 'Red Sox', 3, 1), datetime.date(2024, 4, 5): ('Blue Jays', 'Angels', 3, 1), datetime.date(2024, 4, 12): ('Angels', 'Rangers', 3, 1), datetime.date(2024, 5, 31): ('Angels', 'Padres', 3, 1), datetime.date(2024, 7, 26): ('Angels', 'Athletics', 3, 1), datetime.date(2024, 9, 20): ('Angels', 'Rays', 3, 1), datetime.date(2024, 8, 30): ('Angels', 'Phillies', 3, 1), datetime.date(2024, 6, 21): ('Angels', 'Astros', 3, 1), datetime.date(2024, 5, 24): ('Twins', 'Angels', 3, 1), datetime.date(2024, 4, 9): ('Angels', 'White Sox', 3, 1), datetime.date(2024, 9, 10): ('Angels', 'Mets', 3, 1), datetime.date(2024, 4, 2): ('Angels', 'Reds', 3, 1), datetime.date(2024, 8, 6): ('Angels', 'Nationals', 3, 1), datetime.date(2024, 7, 9): ('Angels', 'Cubs', 3, 1), datetime.date(2024, 3, 26): ('Angels', 'Mariners', 3, 1), datetime.date(2024, 3, 19): ('Yankees', 'Angels', 3, 1), datetime.date(2024, 5, 7): ('Angels', 'Reds', 3, 1), datetime.date(2024, 5, 28): ('Angels', 'Orioles', 3, 1), datetime.date(2024, 6, 18): ('Twins', 'Angels', 3, 1), datetime.date(2024, 5, 21): ('Red Sox', 'Angels', 3, 1), datetime.date(2024, 8, 27): ('Angels', 'Twins', 3, 1), datetime.date(2024, 8, 13): ('Mariners', 'Angels', 3, 1), datetime.date(2024, 7, 2): ('Angels', 'Rays', 3, 1), datetime.date(2024, 4, 30): ('Angels', 'Rockies', 3, 1), datetime.date(2024, 5, 14): ('Rays', 'Angels', 3, 1), datetime.date(2024, 6, 4): ('Tigers', 'Angels', 3, 1), datetime.date(2024, 8, 20): ('Angels', 'Rangers', 3, 1), datetime.date(2024, 9, 17): ('Athletics', 'Angels', 3, 1), datetime.date(2024, 6, 25): ('Royals', 'Angels', 3, 1), datetime.date(2024, 4, 23): ('Rangers', 'Angels', 3, 2), datetime.date(2024, 7, 23): ('Angels', 'Guardians', 3, 1), datetime.date(2024, 9, 3): ('Giants', 'Angels', 2, 1), datetime.date(2024, 7, 30): ('Athletics', 'Angels', 3, 2), datetime.date(2024, 4, 16): ('Angels', 'Twins', 3, 1), datetime.date(2024, 6, 11): ('Rangers', 'Angels', 3, 1)}, 'Astros': {datetime.date(2024, 6, 14): ('Angels', 'Astros', 4, 1), datetime.date(2024, 5, 17): ('Astros', 'Angels', 3, 1), datetime.date(2024, 6, 21): ('Angels', 'Astros', 3, 1), datetime.date(2024, 8, 6): ('Astros', 'Angels', 3, 2), datetime.date(2024, 8, 30): ('Astros', 'Guardians', 4, 1), datetime.date(2024, 5, 10): ('Astros', 'Mariners', 4, 1), datetime.date(2024, 8, 9): ('Astros', 'Royals', 4, 1), datetime.date(2024, 4, 12): ('Astros', 'Orioles', 4, 1), datetime.date(2024, 3, 22): ('Astros', 'Blue Jays', 4, 1), datetime.date(2024, 9, 13): ('Astros', 'Athletics', 4, 1), datetime.date(2024, 6, 7): ('Astros', 'Orioles', 4, 1), datetime.date(2024, 7, 12): ('Astros', 'Royals', 4, 1), datetime.date(2024, 7, 5): ('Astros', 'Cardinals', 3, 1), datetime.date(2024, 8, 16): ('Astros', 'Giants', 3, 1), datetime.date(2024, 6, 28): ('Astros', 'Brewers', 3, 1), datetime.date(2024, 4, 19): ('Royals', 'Astros', 3, 1), datetime.date(2024, 7, 26): ('Astros', 'Yankees', 3, 1), datetime.date(2024, 5, 31): ('Dodgers', 'Astros', 2, 1), datetime.date(2024, 8, 2): ('Astros', 'Twins', 3, 1), datetime.date(2024, 4, 5): ('Astros', 'Mariners', 3, 1), datetime.date(2024, 9, 6): ('Astros', 'Nationals', 3, 1), datetime.date(2024, 3, 29): ('Astros', 'Dodgers', 2, 1), datetime.date(2024, 8, 23): ('Astros', 'White Sox', 3, 1), datetime.date(2024, 5, 24): ('Astros', 'Tigers', 3, 1), datetime.date(2024, 5, 3): ('Astros', 'Rangers', 4, 1), datetime.date(2024, 9, 20): ('Astros', 'Diamondbacks', 3, 1), datetime.date(2024, 4, 26): ('Astros', 'Padres', 3, 1), datetime.date(2024, 7, 9): ('Mariners', 'Astros', 3, 2), datetime.date(2024, 4, 23): ('Astros', 'Giants', 3, 1), datetime.date(2024, 5, 28): ('Astros', 'Marlins', 3, 1), datetime.date(2024, 6, 4): ('Astros', 'Reds', 3, 1), datetime.date(2024, 4, 2): ('Guardians', 'Astros', 3, 1), datetime.date(2024, 5, 14): ('Astros', 'Rays', 3, 1), datetime.date(2024, 3, 19): ('Rangers', 'Astros', 3, 1), datetime.date(2024, 8, 13): ('Astros', 'White Sox', 3, 1), datetime.date(2024, 8, 27): ('Orioles', 'Astros', 3, 1), datetime.date(2024, 5, 21): ('Blue Jays', 'Astros', 3, 1), datetime.date(2024, 4, 9): ('Astros', 'Tigers', 3, 1), datetime.date(2024, 5, 7): ('Rangers', 'Astros', 3, 1), datetime.date(2024, 7, 2): ('Astros', 'Rockies', 3, 1), datetime.date(2024, 8, 20): ('Astros', 'Phillies', 3, 1), datetime.date(2024, 7, 30): ('Astros', 'Rockies', 3, 1), datetime.date(2024, 6, 18): ('Tigers', 'Astros', 3, 1), datetime.date(2024, 4, 16): ('Astros', 'Rangers', 3, 1), datetime.date(2024, 7, 23): ('Red Sox', 'Astros', 3, 1), datetime.date(2024, 6, 25): ('Red Sox', 'Astros', 3, 1), datetime.date(2024, 4, 30): ('White Sox', 'Astros', 3, 1), datetime.date(2024, 9, 17): ('Astros', 'Pirates', 3, 1), datetime.date(2024, 9, 3): ('Mariners', 'Astros', 3, 2), datetime.date(2024, 6, 11): ('Astros', 'Rays', 3, 1), datetime.date(2024, 3, 26): ('Orioles', 'Astros', 3, 1), datetime.date(2024, 9, 10): ('Yankees', 'Astros', 3, 1)}, 'Athletics': {datetime.date(2024, 7, 12): ('Angels', 'Athletics', 4, 1), datetime.date(2024, 7, 26): ('Athletics', 'White Sox', 4, 1), datetime.date(2024, 9, 17): ('Athletics', 'Angels', 3, 1), datetime.date(2024, 6, 11): ('Astros', 'Athletics', 3, 1), datetime.date(2024, 9, 13): ('Astros', 'Athletics', 4, 1), datetime.date(2024, 8, 23): ('Athletics', 'Astros', 3, 1), datetime.date(2024, 9, 10): ('Athletics', 'Astros', 3, 2), datetime.date(2024, 6, 7): ('Athletics', 'Rangers', 4, 1), datetime.date(2024, 9, 20): ('Athletics', 'Rays', 4, 1), datetime.date(2024, 6, 14): ('Athletics', 'White Sox', 4, 1), datetime.date(2024, 4, 19): ('Athletics', 'Yankees', 4, 1), datetime.date(2024, 6, 21): ('Athletics', 'Mariners', 4, 1), datetime.date(2024, 6, 28): ('Yankees', 'Athletics', 3, 1), datetime.date(2024, 8, 30): ('Athletics', 'Brewers', 3, 1), datetime.date(2024, 7, 5): ('Yankees', 'Athletics', 3, 1), datetime.date(2024, 5, 17): ('Athletics', 'Yankees', 4, 1), datetime.date(2024, 8, 2): ('Athletics', 'Dodgers', 3, 1), datetime.date(2024, 8, 9): ('Athletics', 'Orioles', 3, 1), datetime.date(2024, 3, 29): ('Royals', 'Athletics', 3, 1), datetime.date(2024, 8, 16): ('Athletics', 'Royals', 3, 1), datetime.date(2024, 4, 5): ('Athletics', 'Rockies', 2, 1), datetime.date(2024, 9, 6): ('Rangers', 'Athletics', 3, 2), datetime.date(2024, 4, 12): ('Athletics', 'Royals', 3, 1), datetime.date(2024, 5, 24): ('Athletics', 'Padres', 3, 1), datetime.date(2024, 5, 31): ('Rays', 'Athletics', 3, 1), datetime.date(2024, 3, 22): ('Athletics', 'Orioles', 3, 1), datetime.date(2024, 5, 10): ('Athletics', 'Rays', 4, 1), datetime.date(2024, 4, 26): ('Athletics', 'Mariners', 3, 1), datetime.date(2024, 5, 3): ('Athletics', 'Guardians', 3, 1), datetime.date(2024, 8, 13): ('Red Sox', 'Athletics', 3, 1), datetime.date(2024, 5, 28): ('Red Sox', 'Athletics', 3, 1), datetime.date(2024, 7, 9): ('Athletics', 'Nationals', 3, 1), datetime.date(2024, 8, 6): ('White Sox', 'Athletics', 3, 1), datetime.date(2024, 7, 30): ('Athletics', 'Angels', 3, 2), datetime.date(2024, 4, 9): ('Rangers', 'Athletics', 3, 2), datetime.date(2024, 5, 14): ('Athletics', 'Phillies', 3, 1), datetime.date(2024, 4, 30): ('Athletics', 'Giants', 3, 1), datetime.date(2024, 6, 4): ('Guardians', 'Athletics', 3, 1), datetime.date(2024, 4, 16): ('Athletics', 'Reds', 3, 1), datetime.date(2024, 3, 26): ('Athletics', 'Reds', 3, 1), datetime.date(2024, 7, 23): ('Orioles', 'Athletics', 3, 1), datetime.date(2024, 5, 7): ('Athletics', 'Mets', 3, 1), datetime.date(2024, 8, 27): ('Mariners', 'Athletics', 3, 1), datetime.date(2024, 5, 21): ('Athletics', 'Twins', 3, 1), datetime.date(2024, 4, 2): ('Rockies', 'Athletics', 2, 1), datetime.date(2024, 6, 25): ('Athletics', 'Braves', 3, 1), datetime.date(2024, 6, 18): ('Athletics', 'Red Sox', 3, 1), datetime.date(2024, 9, 3): ('White Sox', 'Athletics', 3, 1), datetime.date(2024, 7, 2): ('Athletics', 'Phillies', 3, 1), datetime.date(2024, 4, 23): ('Athletics', 'Marlins', 3, 1), datetime.date(2024, 3, 19): ('Rangers', 'Athletics', 3, 1), datetime.date(2024, 8, 20): ('Athletics', 'Cardinals', 3, 1)}, 'Blue Jays': {datetime.date(2024, 8, 2): ('Angels', 'Blue Jays', 4, 1), datetime.date(2024, 4, 5): ('Blue Jays', 'Angels', 3, 1), datetime.date(2024, 3, 22): ('Astros', 'Blue Jays', 4, 1), datetime.date(2024, 5, 21): ('Blue Jays', 'Astros', 3, 1), datetime.date(2024, 8, 9): ('Blue Jays', 'Rays', 4, 1), datetime.date(2024, 5, 10): ('Athletics', 'Blue Jays', 3, 1), datetime.date(2024, 7, 5): ('Blue Jays', 'Tigers', 4, 1), datetime.date(2024, 5, 17): ('Blue Jays', 'White Sox', 4, 1), datetime.date(2024, 4, 12): ('Blue Jays', 'White Sox', 4, 1), datetime.date(2024, 9, 20): ('Blue Jays', 'Rays', 4, 1), datetime.date(2024, 6, 14): ('Twins', 'Blue Jays', 3, 1), datetime.date(2024, 5, 24): ('Blue Jays', 'Red Sox', 4, 1), datetime.date(2024, 7, 26): ('Orioles', 'Blue Jays', 3, 1), datetime.date(2024, 4, 19): ('Blue Jays', 'Nationals', 3, 1), datetime.date(2024, 5, 31): ('Blue Jays', 'Rockies', 3, 1), datetime.date(2024, 8, 23): ('Blue Jays', 'Tigers', 4, 1), datetime.date(2024, 6, 21): ('Blue Jays', 'Royals', 3, 1), datetime.date(2024, 6, 7): ('Blue Jays', 'Mariners', 3, 1), datetime.date(2024, 9, 13): ('Blue Jays', 'Brewers', 3, 1), datetime.date(2024, 4, 26): ('Rays', 'Blue Jays', 3, 1), datetime.date(2024, 8, 30): ('Blue Jays', 'Marlins', 2, 1), datetime.date(2024, 8, 16): ('Yankees', 'Blue Jays', 3, 2), datetime.date(2024, 7, 12): ('Blue Jays', 'Mets', 3, 1), datetime.date(2024, 6, 28): ('White Sox', 'Blue Jays', 3, 1), datetime.date(2024, 5, 3): ('Royals', 'Blue Jays', 3, 1), datetime.date(2024, 3, 29): ('Yankees', 'Blue Jays', 3, 1), datetime.date(2024, 9, 6): ('Blue Jays', 'Cardinals', 3, 1), datetime.date(2024, 4, 23): ('Red Sox', 'Blue Jays', 3, 2), datetime.date(2024, 6, 11): ('Red Sox', 'Blue Jays', 3, 1), datetime.date(2024, 3, 26): ('Blue Jays', 'Pirates', 3, 1), datetime.date(2024, 6, 18): ('Yankees', 'Blue Jays', 3, 2), datetime.date(2024, 3, 19): ('Blue Jays', 'Twins', 3, 1), datetime.date(2024, 4, 9): ('Rays', 'Blue Jays', 3, 2), datetime.date(2024, 4, 16): ('Blue Jays', 'Orioles', 3, 1), datetime.date(2024, 9, 17): ('Blue Jays', 'Phillies', 3, 1), datetime.date(2024, 5, 14): ('Blue Jays', 'Red Sox', 3, 1), datetime.date(2024, 6, 25): ('Blue Jays', 'Giants', 3, 1), datetime.date(2024, 9, 3): ('Tigers', 'Blue Jays', 3, 1), datetime.date(2024, 4, 30): ('Twins', 'Blue Jays', 3, 1), datetime.date(2024, 9, 10): ('Rays', 'Blue Jays', 3, 1), datetime.date(2024, 8, 6): ('Blue Jays', 'Guardians', 3, 1), datetime.date(2024, 6, 4): ('Blue Jays', 'Yankees', 3, 1), datetime.date(2024, 8, 27): ('Blue Jays', 'Phillies', 3, 1), datetime.date(2024, 8, 20): ('Blue Jays', 'Rangers', 3, 1), datetime.date(2024, 7, 23): ('Marlins', 'Blue Jays', 2, 1), datetime.date(2024, 5, 28): ('Yankees', 'Blue Jays', 3, 1), datetime.date(2024, 4, 2): ('Blue Jays', 'Royals', 3, 1), datetime.date(2024, 8, 13): ('Blue Jays', 'Rays', 3, 1), datetime.date(2024, 7, 30): ('Mariners', 'Blue Jays', 3, 1), datetime.date(2024, 7, 2): ('Blue Jays', 'Reds', 3, 1), datetime.date(2024, 7, 9): ('Blue Jays', 'Twins', 3, 1), datetime.date(2024, 5, 7): ('Blue Jays', 'Yankees', 3, 1)}, 'Braves': {datetime.date(2024, 8, 27): ('Astros', 'Braves', 3, 1), datetime.date(2024, 6, 25): ('Athletics', 'Braves', 3, 1), datetime.date(2024, 6, 21): ('Blue Jays', 'Braves', 3, 1), datetime.date(2024, 7, 26): ('Braves', 'Nationals', 4, 1), datetime.date(2024, 9, 20): ('Braves', 'Phillies', 4, 1), datetime.date(2024, 6, 28): ('Braves', 'Mets', 4, 1), datetime.date(2024, 3, 22): ('Braves', 'Marlins', 4, 1), datetime.date(2024, 7, 5): ('Braves', 'Rockies', 4, 1), datetime.date(2024, 4, 5): ('Braves', 'Reds', 4, 1), datetime.date(2024, 9, 13): ('Phillies', 'Braves', 3, 1), datetime.date(2024, 4, 26): ('Braves', 'Marlins', 4, 1), datetime.date(2024, 6, 14): ('Phillies', 'Braves', 3, 1), datetime.date(2024, 9, 6): ('Braves', 'Reds', 4, 1), datetime.date(2024, 7, 12): ('Padres', 'Braves', 3, 1), datetime.date(2024, 5, 24): ('Cubs', 'Braves', 3, 1), datetime.date(2024, 5, 17): ('Braves', 'Twins', 3, 1), datetime.date(2024, 6, 7): ('Braves', 'Padres', 3, 1), datetime.date(2024, 4, 12): ('Braves', 'Cardinals', 3, 1), datetime.date(2024, 8, 23): ('Braves', 'Guardians', 3, 1), datetime.date(2024, 8, 9): ('Braves', 'Yankees', 3, 1), datetime.date(2024, 8, 30): ('Braves', 'Red Sox', 3, 1), datetime.date(2024, 5, 3): ('Braves', 'Marlins', 3, 1), datetime.date(2024, 5, 10): ('Braves', 'Rockies', 4, 1), datetime.date(2024, 8, 16): ('Orioles', 'Braves', 2, 1), datetime.date(2024, 3, 29): ('Braves', 'Tigers', 3, 1), datetime.date(2024, 5, 31): ('Braves', 'White Sox', 3, 1), datetime.date(2024, 8, 2): ('Braves', 'Rays', 3, 1), datetime.date(2024, 4, 19): ('Rockies', 'Braves', 3, 1), datetime.date(2024, 5, 7): ('Braves', 'Red Sox', 3, 1), datetime.date(2024, 7, 23): ('Dodgers', 'Braves', 3, 1), datetime.date(2024, 4, 2): ('Braves', 'White Sox', 3, 1), datetime.date(2024, 7, 2): ('Marlins', 'Braves', 3, 1), datetime.date(2024, 8, 20): ('Nationals', 'Braves', 3, 1), datetime.date(2024, 4, 23): ('Braves', 'Yankees', 3, 1), datetime.date(2024, 9, 17): ('Braves', 'Rangers', 3, 1), datetime.date(2024, 7, 30): ('Braves', 'Cubs', 3, 1), datetime.date(2024, 8, 13): ('Braves', 'Giants', 3, 1), datetime.date(2024, 9, 10): ('Cardinals', 'Braves', 3, 1), datetime.date(2024, 6, 18): ('Phillies', 'Braves', 3, 2), datetime.date(2024, 9, 3): ('Braves', 'Nationals', 3, 1), datetime.date(2024, 3, 26): ('Rockies', 'Braves', 3, 1), datetime.date(2024, 8, 6): ('Braves', 'Royals', 3, 1), datetime.date(2024, 3, 19): ('Mets', 'Braves', 3, 1), datetime.date(2024, 4, 9): ('Reds', 'Braves', 3, 1), datetime.date(2024, 4, 16): ('Braves', 'Mariners', 3, 1), datetime.date(2024, 5, 21): ('Marlins', 'Braves', 3, 2), datetime.date(2024, 4, 30): ('Braves', 'Diamondbacks', 3, 1), datetime.date(2024, 6, 11): ('Nationals', 'Braves', 3, 2), datetime.date(2024, 5, 28): ('Reds', 'Braves', 3, 1), datetime.date(2024, 6, 4): ('Diamondbacks', 'Braves', 3, 1), datetime.date(2024, 5, 14): ('Nationals', 'Braves', 3, 1), datetime.date(2024, 7, 9): ('Pirates', 'Braves', 3, 1)}, 'Brewers': {datetime.date(2024, 9, 3): ('Brewers', 'Royals', 3, 1), datetime.date(2024, 6, 28): ('Astros', 'Brewers', 3, 1), datetime.date(2024, 8, 30): ('Athletics', 'Brewers', 3, 1), datetime.date(2024, 9, 13): ('Brewers', 'Reds', 4, 1), datetime.date(2024, 5, 17): ('Brewers', 'Pirates', 4, 1), datetime.date(2024, 4, 23): ('Braves', 'Brewers', 3, 1), datetime.date(2024, 8, 9): ('Brewers', 'Nationals', 4, 1), datetime.date(2024, 7, 26): ('Brewers', 'Marlins', 4, 1), datetime.date(2024, 4, 26): ('Brewers', 'Diamondbacks', 4, 1), datetime.date(2024, 5, 24): ('Brewers', 'Cardinals', 4, 1), datetime.date(2024, 5, 3): ('Brewers', 'Dodgers', 4, 1), datetime.date(2024, 9, 6): ('Brewers', 'Pirates', 4, 1), datetime.date(2024, 4, 12): ('Brewers', 'Reds', 4, 1), datetime.date(2024, 3, 29): ('Brewers', 'Cubs', 4, 1), datetime.date(2024, 8, 23): ('Padres', 'Brewers', 3, 1), datetime.date(2024, 6, 7): ('Cubs', 'Brewers', 3, 2), datetime.date(2024, 5, 10): ('Brewers', 'Yankees', 3, 1), datetime.date(2024, 6, 21): ('Brewers', 'Rays', 3, 1), datetime.date(2024, 3, 22): ('Marlins', 'Brewers', 3, 1), datetime.date(2024, 7, 5): ('Brewers', 'Rangers', 3, 1), datetime.date(2024, 7, 12): ('Tigers', 'Brewers', 2, 1), datetime.date(2024, 8, 16): ('Brewers', 'Mets', 3, 1), datetime.date(2024, 6, 14): ('Reds', 'Brewers', 3, 1), datetime.date(2024, 9, 20): ('Reds', 'Brewers', 3, 2), datetime.date(2024, 4, 19): ('Brewers', 'Rockies', 3, 1), datetime.date(2024, 4, 5): ('Dodgers', 'Brewers', 3, 1), datetime.date(2024, 8, 2): ('Rockies', 'Brewers', 3, 1), datetime.date(2024, 5, 31): ('Brewers', 'Pirates', 3, 1), datetime.date(2024, 4, 2): ('Nationals', 'Brewers', 3, 1), datetime.date(2024, 7, 30): ('Mets', 'Brewers', 3, 1), datetime.date(2024, 3, 19): ('Nationals', 'Brewers', 3, 1), datetime.date(2024, 8, 27): ('Cardinals', 'Brewers', 3, 2), datetime.date(2024, 9, 10): ('Brewers', 'Mariners', 3, 1), datetime.date(2024, 7, 9): ('Brewers', 'Yankees', 3, 1), datetime.date(2024, 5, 21): ('Brewers', 'Tigers', 2, 1), datetime.date(2024, 4, 16): ('Brewers', 'Twins', 3, 1), datetime.date(2024, 4, 9): ('Brewers', 'Red Sox', 3, 1), datetime.date(2024, 8, 13): ('Brewers', 'Guardians', 3, 1), datetime.date(2024, 3, 26): ('Padres', 'Brewers', 3, 1), datetime.date(2024, 7, 23): ('Brewers', 'Cardinals', 3, 1), datetime.date(2024, 8, 20): ('Brewers', 'Giants', 3, 1), datetime.date(2024, 5, 14): ('Cardinals', 'Brewers', 3, 1), datetime.date(2024, 6, 11): ('Pirates', 'Brewers', 3, 2), datetime.date(2024, 8, 6): ('Brewers', 'Pirates', 3, 1), datetime.date(2024, 6, 4): ('Cubs', 'Brewers', 3, 1), datetime.date(2024, 4, 30): ('Brewers', 'Padres', 3, 1), datetime.date(2024, 6, 25): ('Brewers', 'Orioles', 3, 1), datetime.date(2024, 5, 7): ('Pirates', 'Brewers', 3, 1), datetime.date(2024, 6, 18): ('Pirates', 'Brewers', 3, 2), datetime.date(2024, 9, 17): ('Diamondbacks', 'Brewers', 3, 1), datetime.date(2024, 5, 28): ('Giants', 'Brewers', 3, 1), datetime.date(2024, 7, 2): ('Brewers', 'Phillies', 3, 1)}, 'Cardinals': {datetime.date(2024, 8, 16): ('Angels', 'Cardinals', 3, 1), datetime.date(2024, 7, 5): ('Astros', 'Cardinals', 3, 1), datetime.date(2024, 8, 20): ('Athletics', 'Cardinals', 3, 1), datetime.date(2024, 9, 6): ('Blue Jays', 'Cardinals', 3, 1), datetime.date(2024, 4, 12): ('Braves', 'Cardinals', 3, 1), datetime.date(2024, 9, 10): ('Cardinals', 'Braves', 3, 1), datetime.date(2024, 5, 24): ('Cardinals', 'Rangers', 3, 1), datetime.date(2024, 8, 27): ('Cardinals', 'Brewers', 3, 2), datetime.date(2024, 7, 23): ('Brewers', 'Cardinals', 3, 1), datetime.date(2024, 5, 14): ('Cardinals', 'Brewers', 3, 1), datetime.date(2024, 8, 2): ('Cardinals', 'Diamondbacks', 4, 1), datetime.date(2024, 8, 9): ('Cardinals', 'Pirates', 4, 1), datetime.date(2024, 5, 31): ('Cardinals', 'Marlins', 4, 1), datetime.date(2024, 7, 26): ('Cardinals', 'Reds', 4, 1), datetime.date(2024, 6, 21): ('Cardinals', 'Cubs', 4, 1), datetime.date(2024, 5, 10): ('Cardinals', 'Giants', 4, 1), datetime.date(2024, 6, 14): ('Cardinals', 'Mets', 4, 1), datetime.date(2024, 4, 26): ('Cardinals', 'Guardians', 2, 1), datetime.date(2024, 3, 22): ('Cardinals', 'Red Sox', 3, 1), datetime.date(2024, 9, 20): ('Mets', 'Cardinals', 3, 1), datetime.date(2024, 4, 19): ('Cardinals', 'Reds', 3, 1), datetime.date(2024, 9, 13): ('Padres', 'Cardinals', 3, 1), datetime.date(2024, 6, 7): ('Cardinals', 'Twins', 3, 1), datetime.date(2024, 8, 30): ('Cubs', 'Cardinals', 3, 2), datetime.date(2024, 3, 29): ('Reds', 'Cardinals', 3, 2), datetime.date(2024, 6, 28): ('Phillies', 'Cardinals', 3, 1), datetime.date(2024, 5, 3): ('Cardinals', 'Red Sox', 3, 1), datetime.date(2024, 8, 23): ('Rockies', 'Cardinals', 3, 1), datetime.date(2024, 7, 12): ('Reds', 'Cardinals', 3, 1), datetime.date(2024, 5, 17): ('Cardinals', 'White Sox', 3, 1), datetime.date(2024, 4, 5): ('Reds', 'Cardinals', 3, 1), datetime.date(2024, 9, 17): ('Cubs', 'Cardinals', 3, 1), datetime.date(2024, 6, 11): ('Cardinals', 'Yankees', 3, 1), datetime.date(2024, 7, 2): ('Cardinals', 'Royals', 3, 1), datetime.date(2024, 5, 7): ('Cardinals', 'Cubs', 3, 1), datetime.date(2024, 6, 4): ('Pirates', 'Cardinals', 3, 2), datetime.date(2024, 8, 13): ('Rockies', 'Cardinals', 3, 1), datetime.date(2024, 3, 26): ('Cardinals', 'Orioles', 3, 1), datetime.date(2024, 6, 18): ('Giants', 'Cardinals', 3, 1), datetime.date(2024, 6, 25): ('Phillies', 'Cardinals', 3, 1), datetime.date(2024, 9, 3): ('Guardians', 'Cardinals', 2, 1), datetime.date(2024, 4, 30): ('Cardinals', 'Rangers', 3, 1), datetime.date(2024, 4, 23): ('Nationals', 'Cardinals', 3, 1), datetime.date(2024, 7, 30): ('Cardinals', 'Yankees', 3, 1), datetime.date(2024, 5, 28): ('Cardinals', 'Pirates', 3, 1), datetime.date(2024, 4, 16): ('Nationals', 'Cardinals', 3, 1), datetime.date(2024, 4, 9): ('Cardinals', 'Rockies', 3, 1), datetime.date(2024, 4, 2): ('Cardinals', 'Twins', 3, 1), datetime.date(2024, 7, 9): ('Cardinals', 'Phillies', 3, 1), datetime.date(2024, 5, 21): ('Cardinals', 'Padres', 3, 1), datetime.date(2024, 8, 6): ('Cardinals', 'Tigers', 3, 1), datetime.date(2024, 3, 19): ('Marlins', 'Cardinals', 3, 1)}, 'Cubs': {datetime.date(2024, 7, 9): ('Angels', 'Cubs', 3, 1), datetime.date(2024, 4, 9): ('Astros', 'Cubs', 3, 1), datetime.date(2024, 8, 16): ('Cubs', 'Rockies', 4, 1), datetime.date(2024, 9, 10): ('Blue Jays', 'Cubs', 3, 1), datetime.date(2024, 5, 24): ('Cubs', 'Braves', 3, 1), datetime.date(2024, 7, 30): ('Braves', 'Cubs', 3, 1), datetime.date(2024, 3, 29): ('Brewers', 'Cubs', 4, 1), datetime.date(2024, 6, 7): ('Cubs', 'Brewers', 3, 2), datetime.date(2024, 6, 4): ('Cubs', 'Brewers', 3, 1), datetime.date(2024, 4, 30): ('Brewers', 'Cubs', 3, 1), datetime.date(2024, 6, 21): ('Cardinals', 'Cubs', 4, 1), datetime.date(2024, 8, 30): ('Cubs', 'Cardinals', 3, 2), datetime.date(2024, 9, 17): ('Cubs', 'Cardinals', 3, 1), datetime.date(2024, 5, 7): ('Cardinals', 'Cubs', 3, 1), datetime.date(2024, 4, 26): ('Cubs', 'Reds', 4, 1), datetime.date(2024, 8, 2): ('Cubs', 'Nationals', 4, 1), datetime.date(2024, 5, 17): ('Cubs', 'Dodgers', 4, 1), datetime.date(2024, 5, 10): ('Cubs', 'Pirates', 4, 1), datetime.date(2024, 6, 28): ('Cubs', 'Rockies', 4, 1), datetime.date(2024, 8, 23): ('Cubs', 'Phillies', 4, 1), datetime.date(2024, 4, 5): ('Pirates', 'Cubs', 3, 1), datetime.date(2024, 4, 12): ('Cubs', 'Tigers', 3, 1), datetime.date(2024, 4, 19): ('Cubs', 'Padres', 3, 1), datetime.date(2024, 7, 26): ('Cubs', 'Rays', 3, 1), datetime.date(2024, 7, 5): ('Cubs', 'Orioles', 3, 1), datetime.date(2024, 9, 20): ('Royals', 'Cubs', 2, 1), datetime.date(2024, 7, 12): ('Cubs', 'Giants', 3, 1), datetime.date(2024, 8, 9): ('Cubs', 'Royals', 2, 1), datetime.date(2024, 9, 6): ('Cubs', 'Tigers', 3, 1), datetime.date(2024, 5, 3): ('Pirates', 'Cubs', 3, 2), datetime.date(2024, 9, 13): ('Marlins', 'Cubs', 3, 1), datetime.date(2024, 5, 31): ('Cubs', 'Diamondbacks', 3, 1), datetime.date(2024, 6, 14): ('Phillies', 'Cubs', 3, 1), datetime.date(2024, 3, 22): ('Cubs', 'Twins', 3, 1), datetime.date(2024, 9, 3): ('Cubs', 'Padres', 3, 1), datetime.date(2024, 6, 25): ('Padres', 'Cubs', 3, 1), datetime.date(2024, 7, 2): ('Padres', 'Cubs', 3, 1), datetime.date(2024, 6, 18): ('Mets', 'Cubs', 3, 1), datetime.date(2024, 8, 13): ('Cubs', 'Royals', 2, 1), datetime.date(2024, 5, 21): ('Cubs', 'Mets', 3, 1), datetime.date(2024, 7, 23): ('Nationals', 'Cubs', 3, 1), datetime.date(2024, 8, 6): ('Cubs', 'Twins', 3, 1), datetime.date(2024, 4, 16): ('Cubs', 'Guardians', 3, 1), datetime.date(2024, 8, 20): ('Cubs', 'Pirates', 3, 1), datetime.date(2024, 3, 19): ('Pirates', 'Cubs', 3, 1), datetime.date(2024, 4, 2): ('Reds', 'Cubs', 3, 1), datetime.date(2024, 8, 27): ('Cubs', 'Yankees', 3, 1), datetime.date(2024, 5, 28): ('Cubs', 'Red Sox', 3, 1), datetime.date(2024, 4, 23): ('Mets', 'Cubs', 3, 1), datetime.date(2024, 3, 26): ('Cubs', 'Yankees', 3, 1), datetime.date(2024, 5, 14): ('Cubs', 'White Sox', 3, 1), datetime.date(2024, 6, 11): ('Dodgers', 'Cubs', 3, 1)}, 'Diamondbacks': {datetime.date(2024, 3, 26): ('Angels', 'Diamondbacks', 3, 1), datetime.date(2024, 9, 20): ('Astros', 'Diamondbacks', 3, 1), datetime.date(2024, 8, 6): ('Athletics', 'Diamondbacks', 3, 1), datetime.date(2024, 4, 19): ('Blue Jays', 'Diamondbacks', 3, 1), datetime.date(2024, 4, 30): ('Marlins', 'Diamondbacks', 3, 1), datetime.date(2024, 6, 4): ('Diamondbacks', 'Braves', 3, 1), datetime.date(2024, 4, 26): ('Brewers', 'Diamondbacks', 4, 1), datetime.date(2024, 9, 17): ('Diamondbacks', 'Brewers', 3, 1), datetime.date(2024, 8, 2): ('Cardinals', 'Diamondbacks', 4, 1), datetime.date(2024, 4, 2): ('Diamondbacks', 'Cardinals', 3, 1), datetime.date(2024, 5, 31): ('Cubs', 'Diamondbacks', 3, 1), datetime.date(2024, 8, 27): ('Diamondbacks', 'Cubs', 3, 1), datetime.date(2024, 5, 17): ('Diamondbacks', 'Padres', 3, 1), datetime.date(2024, 9, 13): ('Diamondbacks', 'Dodgers', 4, 1), datetime.date(2024, 7, 26): ('Diamondbacks', 'Rockies', 4, 1), datetime.date(2024, 3, 22): ('Diamondbacks', 'Phillies', 4, 1), datetime.date(2024, 7, 5): ('Diamondbacks', 'Nationals', 4, 1), datetime.date(2024, 4, 12): ('Diamondbacks', 'Rockies', 4, 1), datetime.date(2024, 8, 9): ('Diamondbacks', 'Royals', 3, 1), datetime.date(2024, 8, 23): ('Mariners', 'Diamondbacks', 2, 1), datetime.date(2024, 9, 6): ('Diamondbacks', 'Pirates', 3, 1), datetime.date(2024, 5, 24): ('Mets', 'Diamondbacks', 3, 1), datetime.date(2024, 5, 10): ('Diamondbacks', 'White Sox', 3, 1), datetime.date(2024, 6, 28): ('Diamondbacks', 'Twins', 3, 1), datetime.date(2024, 5, 3): ('Giants', 'Diamondbacks', 3, 2), datetime.date(2024, 6, 21): ('Rockies', 'Diamondbacks', 3, 1), datetime.date(2024, 8, 16): ('Diamondbacks', 'Nationals', 4, 1), datetime.date(2024, 7, 12): ('Nationals', 'Diamondbacks', 3, 1), datetime.date(2024, 4, 5): ('Diamondbacks', 'Orioles', 3, 1), datetime.date(2024, 6, 7): ('Diamondbacks', 'Red Sox', 3, 1), datetime.date(2024, 6, 14): ('Diamondbacks', 'Tigers', 3, 1), datetime.date(2024, 3, 29): ('Rockies', 'Diamondbacks', 3, 2), datetime.date(2024, 8, 30): ('Diamondbacks', 'Rockies', 3, 1), datetime.date(2024, 6, 18): ('Diamondbacks', 'Guardians', 3, 1), datetime.date(2024, 7, 2): ('Giants', 'Diamondbacks', 3, 1), datetime.date(2024, 6, 25): ('Rockies', 'Diamondbacks', 3, 2), datetime.date(2024, 8, 20): ('Diamondbacks', 'Twins', 3, 1), datetime.date(2024, 9, 10): ('Diamondbacks', 'Giants', 3, 1), datetime.date(2024, 3, 19): ('Marlins', 'Diamondbacks', 3, 1), datetime.date(2024, 5, 14): ('Diamondbacks', 'Rays', 3, 1), datetime.date(2024, 7, 9): ('Diamondbacks', 'Red Sox', 3, 1), datetime.date(2024, 6, 11): ('Pirates', 'Diamondbacks', 3, 1), datetime.date(2024, 4, 16): ('Phillies', 'Diamondbacks', 3, 1), datetime.date(2024, 5, 28): ('Padres', 'Diamondbacks', 3, 2), datetime.date(2024, 9, 3): ('Diamondbacks', 'Yankees', 3, 1), datetime.date(2024, 4, 9): ('Diamondbacks', 'Mariners', 2, 1), datetime.date(2024, 7, 30): ('Diamondbacks', 'White Sox', 3, 1), datetime.date(2024, 5, 7): ('Dodgers', 'Diamondbacks', 3, 2), datetime.date(2024, 4, 23): ('Diamondbacks', 'Dodgers', 3, 1), datetime.date(2024, 7, 23): ('Diamondbacks', 'Rangers', 3, 1), datetime.date(2024, 8, 13): ('Diamondbacks', 'Mets', 3, 1), datetime.date(2024, 5, 21): ('Diamondbacks', 'Royals', 3, 1)}, 'Dodgers': {datetime.date(2024, 6, 7): ('Angels', 'Dodgers', 3, 1), datetime.date(2024, 5, 3): ('Brewers', 'Dodgers', 4, 1), datetime.date(2024, 5, 7): ('Dodgers', 'Diamondbacks', 3, 2), datetime.date(2024, 8, 2): ('Marlins', 'Dodgers', 3, 1), datetime.date(2024, 5, 14): ('Blue Jays', 'Dodgers', 3, 1), datetime.date(2024, 4, 26): ('Braves', 'Dodgers', 4, 1), datetime.date(2024, 7, 23): ('Dodgers', 'Braves', 3, 1), datetime.date(2024, 4, 5): ('Dodgers', 'Brewers', 3, 1), datetime.date(2024, 7, 2): ('Dodgers', 'Pirates', 3, 1), datetime.date(2024, 7, 30): ('Dodgers', 'Diamondbacks', 3, 1), datetime.date(2024, 5, 17): ('Cubs', 'Dodgers', 4, 1), datetime.date(2024, 6, 11): ('Dodgers', 'Cubs', 3, 1), datetime.date(2024, 9, 13): ('Diamondbacks', 'Dodgers', 4, 1), datetime.date(2024, 4, 23): ('Diamondbacks', 'Dodgers', 3, 1), datetime.date(2024, 5, 24): ('Nationals', 'Dodgers', 3, 1), datetime.date(2024, 7, 5): ('Dodgers', 'Rockies', 4, 1), datetime.date(2024, 5, 10): ('Dodgers', 'Padres', 4, 1), datetime.date(2024, 8, 23): ('Dodgers', 'Giants', 4, 1), datetime.date(2024, 4, 12): ('Dodgers', 'Padres', 3, 1), datetime.date(2024, 4, 19): ('Dodgers', 'Mariners', 3, 1), datetime.date(2024, 5, 31): ('Dodgers', 'Astros', 2, 1), datetime.date(2024, 3, 22): ('Dodgers', 'Pirates', 3, 1), datetime.date(2024, 8, 30): ('Dodgers', 'Twins', 3, 1), datetime.date(2024, 7, 12): ('Dodgers', 'Rockies', 3, 1), datetime.date(2024, 7, 26): ('Dodgers', 'Tigers', 3, 1), datetime.date(2024, 8, 16): ('Dodgers', 'Giants', 3, 1), datetime.date(2024, 8, 9): ('Giants', 'Dodgers', 3, 2), datetime.date(2024, 3, 29): ('Astros', 'Dodgers', 2, 1), datetime.date(2024, 6, 28): ('Phillies', 'Dodgers', 3, 1), datetime.date(2024, 6, 21): ('Dodgers', 'Padres', 4, 1), datetime.date(2024, 9, 6): ('Dodgers', 'Red Sox', 3, 1), datetime.date(2024, 9, 20): ('Dodgers', 'Cardinals', 3, 1), datetime.date(2024, 6, 14): ('Reds', 'Dodgers', 3, 1), datetime.date(2024, 5, 28): ('Dodgers', 'Twins', 3, 1), datetime.date(2024, 6, 25): ('Dodgers', 'Yankees', 3, 1), datetime.date(2024, 9, 17): ('Mets', 'Dodgers', 3, 1), datetime.date(2024, 4, 9): ('Dodgers', 'Padres', 3, 1), datetime.date(2024, 3, 26): ('Dodgers', 'Royals', 3, 1), datetime.date(2024, 8, 6): ('Dodgers', 'Red Sox', 3, 1), datetime.date(2024, 9, 3): ('Rockies', 'Dodgers', 3, 1), datetime.date(2024, 6, 4): ('Dodgers', 'White Sox', 3, 1), datetime.date(2024, 8, 27): ('Dodgers', 'Rays', 3, 1), datetime.date(2024, 8, 13): ('Dodgers', 'Reds', 3, 1), datetime.date(2024, 6, 18): ('Rockies', 'Dodgers', 3, 2), datetime.date(2024, 9, 10): ('Dodgers', 'Rockies', 3, 1), datetime.date(2024, 4, 30): ('Dodgers', 'Reds', 3, 1), datetime.date(2024, 4, 2): ('Giants', 'Dodgers', 3, 1), datetime.date(2024, 4, 16): ('Nationals', 'Dodgers', 3, 1), datetime.date(2024, 3, 19): ('Marlins', 'Dodgers', 3, 1), datetime.date(2024, 5, 21): ('Dodgers', 'Nationals', 3, 1), datetime.date(2024, 7, 9): ('Dodgers', 'Marlins', 3, 1), datetime.date(2024, 8, 20): ('Rockies', 'Dodgers', 3, 1)}, 'Giants': {datetime.date(2024, 8, 23): ('Dodgers', 'Giants', 4, 1), datetime.date(2024, 7, 30): ('Angels', 'Giants', 2, 1), datetime.date(2024, 8, 16): ('Phillies', 'Giants', 3, 1), datetime.date(2024, 4, 30): ('Athletics', 'Giants', 3, 1), datetime.date(2024, 6, 25): ('Blue Jays', 'Giants', 3, 1), datetime.date(2024, 8, 13): ('Braves', 'Giants', 3, 1), datetime.date(2024, 5, 21): ('Giants', 'Braves', 3, 1), datetime.date(2024, 6, 18): ('Giants', 'Cardinals', 3, 1), datetime.date(2024, 5, 28): ('Giants', 'Brewers', 3, 1), datetime.date(2024, 5, 10): ('Cardinals', 'Giants', 4, 1), datetime.date(2024, 4, 19): ('Giants', 'Cubs', 3, 1), datetime.date(2024, 7, 12): ('Giants', 'Orioles', 3, 1), datetime.date(2024, 7, 26): ('Diamondbacks', 'Giants', 4, 1), datetime.date(2024, 5, 3): ('Giants', 'Diamondbacks', 3, 2), datetime.date(2024, 7, 2): ('Giants', 'Diamondbacks', 3, 1), datetime.date(2024, 9, 10): ('Diamondbacks', 'Giants', 3, 1), datetime.date(2024, 8, 9): ('Giants', 'Dodgers', 3, 2), datetime.date(2024, 4, 2): ('Giants', 'Dodgers', 3, 1), datetime.date(2024, 9, 6): ('Giants', 'Padres', 4, 1), datetime.date(2024, 8, 30): ('Giants', 'Nationals', 4, 1), datetime.date(2024, 6, 28): ('Giants', 'Pirates', 4, 1), datetime.date(2024, 7, 5): ('Giants', 'Pirates', 4, 1), datetime.date(2024, 4, 12): ('Giants', 'Rockies', 4, 1), datetime.date(2024, 3, 22): ('Giants', 'Tigers', 3, 1), datetime.date(2024, 9, 13): ('Giants', 'Mets', 3, 1), datetime.date(2024, 3, 29): ('Giants', 'Phillies', 3, 1), datetime.date(2024, 4, 26): ('Giants', 'Rays', 3, 1), datetime.date(2024, 5, 31): ('Giants', 'Twins', 3, 1), datetime.date(2024, 4, 5): ('Giants', 'Red Sox', 3, 1), datetime.date(2024, 6, 21): ('Pirates', 'Giants', 3, 1), datetime.date(2024, 8, 2): ('Padres', 'Giants', 3, 1), datetime.date(2024, 6, 14): ('Rockies', 'Giants', 3, 2), datetime.date(2024, 5, 17): ('Rockies', 'Giants', 3, 1), datetime.date(2024, 5, 24): ('Giants', 'White Sox', 3, 1), datetime.date(2024, 9, 20): ('Giants', 'Rockies', 3, 1), datetime.date(2024, 6, 7): ('Mets', 'Giants', 3, 1), datetime.date(2024, 4, 16): ('Nationals', 'Giants', 3, 1), datetime.date(2024, 5, 14): ('Reds', 'Giants', 3, 1), datetime.date(2024, 4, 23): ('Astros', 'Giants', 3, 1), datetime.date(2024, 3, 19): ('Rockies', 'Giants', 3, 2), datetime.date(2024, 9, 17): ('Giants', 'Reds', 3, 1), datetime.date(2024, 7, 9): ('Giants', 'Mariners', 3, 1), datetime.date(2024, 4, 9): ('Marlins', 'Giants', 3, 1), datetime.date(2024, 7, 23): ('Giants', 'Phillies', 3, 1), datetime.date(2024, 8, 20): ('Brewers', 'Giants', 3, 1), datetime.date(2024, 8, 27): ('Nationals', 'Giants', 3, 1), datetime.date(2024, 3, 26): ('Giants', 'Padres', 3, 1), datetime.date(2024, 6, 4): ('Giants', 'Royals', 3, 1), datetime.date(2024, 5, 7): ('Phillies', 'Giants', 3, 1), datetime.date(2024, 8, 6): ('Giants', 'Rays', 3, 1), datetime.date(2024, 9, 3): ('Giants', 'Angels', 2, 1), datetime.date(2024, 6, 11): ('Giants', 'Guardians', 3, 1)}, 'Guardians': {datetime.date(2024, 4, 12): ('Twins', 'Guardians', 3, 1), datetime.date(2024, 7, 23): ('Angels', 'Guardians', 3, 1), datetime.date(2024, 8, 30): ('Astros', 'Guardians', 4, 1), datetime.date(2024, 4, 2): ('Guardians', 'Astros', 3, 1), datetime.date(2024, 5, 3): ('Guardians', 'Tigers', 4, 1), datetime.date(2024, 4, 16): ('Cubs', 'Guardians', 3, 1), datetime.date(2024, 8, 6): ('Blue Jays', 'Guardians', 3, 1), datetime.date(2024, 7, 2): ('Guardians', 'Blue Jays', 3, 1), datetime.date(2024, 8, 23): ('Braves', 'Guardians', 3, 1), datetime.date(2024, 8, 13): ('Brewers', 'Guardians', 3, 1), datetime.date(2024, 4, 26): ('Cardinals', 'Guardians', 2, 1), datetime.date(2024, 9, 3): ('Guardians', 'Cardinals', 2, 1), datetime.date(2024, 6, 18): ('Diamondbacks', 'Guardians', 3, 1), datetime.date(2024, 6, 21): ('Dodgers', 'Guardians', 3, 1), datetime.date(2024, 6, 11): ('Twins', 'Guardians', 3, 2), datetime.date(2024, 6, 7): ('Guardians', 'Twins', 4, 1), datetime.date(2024, 4, 19): ('Guardians', 'Red Sox', 4, 1), datetime.date(2024, 6, 14): ('Guardians', 'Rays', 4, 1), datetime.date(2024, 8, 9): ('Guardians', 'Royals', 4, 1), datetime.date(2024, 5, 10): ('Guardians', 'White Sox', 4, 1), datetime.date(2024, 8, 2): ('Guardians', 'Red Sox', 4, 1), datetime.date(2024, 5, 31): ('Guardians', 'Tigers', 4, 1), datetime.date(2024, 9, 13): ('Guardians', 'Rockies', 3, 1), datetime.date(2024, 3, 29): ('Guardians', 'Pirates', 3, 1), datetime.date(2024, 7, 5): ('Mariners', 'Guardians', 3, 1), datetime.date(2024, 9, 20): ('Rangers', 'Guardians', 3, 1), datetime.date(2024, 5, 24): ('Guardians', 'Orioles', 3, 1), datetime.date(2024, 5, 17): ('Guardians', 'Nationals', 3, 1), datetime.date(2024, 4, 5): ('Guardians', 'White Sox', 3, 1), datetime.date(2024, 9, 6): ('Tigers', 'Guardians', 3, 1), datetime.date(2024, 7, 26): ('Twins', 'Guardians', 3, 1), datetime.date(2024, 3, 22): ('Orioles', 'Guardians', 3, 1), datetime.date(2024, 7, 12): ('Guardians', 'Phillies', 3, 1), datetime.date(2024, 8, 16): ('Guardians', 'Marlins', 3, 1), datetime.date(2024, 6, 28): ('Guardians', 'Royals', 3, 1), datetime.date(2024, 5, 28): ('White Sox', 'Guardians', 3, 2), datetime.date(2024, 5, 7): ('Tigers', 'Guardians', 3, 2), datetime.date(2024, 9, 10): ('Guardians', 'Tigers', 3, 1), datetime.date(2024, 7, 9): ('Red Sox', 'Guardians', 3, 1), datetime.date(2024, 6, 4): ('Guardians', 'Athletics', 3, 1), datetime.date(2024, 6, 25): ('Tigers', 'Guardians', 3, 1), datetime.date(2024, 3, 26): ('Guardians', 'Tigers', 3, 1), datetime.date(2024, 8, 27): ('Royals', 'Guardians', 3, 1), datetime.date(2024, 3, 19): ('Royals', 'Guardians', 3, 2), datetime.date(2024, 5, 14): ('Guardians', 'Yankees', 3, 1), datetime.date(2024, 5, 21): ('Yankees', 'Guardians', 3, 1), datetime.date(2024, 9, 17): ('Tigers', 'Guardians', 3, 2), datetime.date(2024, 4, 23): ('Rays', 'Guardians', 3, 1), datetime.date(2024, 8, 20): ('White Sox', 'Guardians', 3, 2), datetime.date(2024, 7, 30): ('Royals', 'Guardians', 3, 2), datetime.date(2024, 4, 30): ('Guardians', 'Pirates', 3, 1), datetime.date(2024, 4, 9): ('White Sox', 'Guardians', 3, 1)}, 'Mariners': {datetime.date(2024, 5, 3): ('Mariners', 'Rockies', 3, 1), datetime.date(2024, 5, 7): ('Guardians', 'Mariners', 3, 1), datetime.date(2024, 6, 18): ('Mariners', 'Angels', 3, 2), datetime.date(2024, 8, 13): ('Tigers', 'Mariners', 3, 1), datetime.date(2024, 5, 10): ('Astros', 'Mariners', 4, 1), datetime.date(2024, 4, 5): ('Yankees', 'Mariners', 3, 1), datetime.date(2024, 7, 9): ('Giants', 'Mariners', 3, 1), datetime.date(2024, 6, 4): ('Mariners', 'Astros', 3, 1), datetime.date(2024, 6, 21): ('Athletics', 'Mariners', 4, 1), datetime.date(2024, 9, 6): ('Mariners', 'Athletics', 3, 2), datetime.date(2024, 4, 26): ('Athletics', 'Mariners', 3, 1), datetime.date(2024, 8, 27): ('Mariners', 'Athletics', 3, 1), datetime.date(2024, 6, 7): ('Blue Jays', 'Mariners', 3, 1), datetime.date(2024, 7, 30): ('Mariners', 'Blue Jays', 3, 1), datetime.date(2024, 4, 16): ('Braves', 'Mariners', 3, 1), datetime.date(2024, 9, 10): ('Rangers', 'Mariners', 3, 2), datetime.date(2024, 6, 25): ('Cardinals', 'Mariners', 3, 1), datetime.date(2024, 8, 6): ('Cubs', 'Mariners', 3, 1), datetime.date(2024, 8, 23): ('Mariners', 'Diamondbacks', 2, 1), datetime.date(2024, 4, 9): ('Diamondbacks', 'Mariners', 2, 1), datetime.date(2024, 4, 19): ('Rangers', 'Mariners', 3, 1), datetime.date(2024, 7, 5): ('Mariners', 'White Sox', 4, 1), datetime.date(2024, 3, 22): ('Mariners', 'Twins', 4, 1), datetime.date(2024, 5, 17): ('Mariners', 'Rangers', 4, 1), datetime.date(2024, 8, 9): ('Mariners', 'White Sox', 4, 1), datetime.date(2024, 9, 13): ('Mariners', 'Rays', 4, 1), datetime.date(2024, 6, 28): ('Mariners', 'Red Sox', 4, 1), datetime.date(2024, 7, 12): ('White Sox', 'Mariners', 3, 1), datetime.date(2024, 9, 20): ('Yankees', 'Mariners', 3, 1), datetime.date(2024, 6, 14): ('White Sox', 'Mariners', 3, 1), datetime.date(2024, 7, 26): ('Rangers', 'Mariners', 3, 2), datetime.date(2024, 8, 16): ('Mariners', 'Pirates', 3, 1), datetime.date(2024, 8, 30): ('Royals', 'Mariners', 3, 1), datetime.date(2024, 3, 29): ('Rays', 'Mariners', 3, 1), datetime.date(2024, 4, 12): ('Mariners', 'Nationals', 3, 1), datetime.date(2024, 8, 2): ('Mariners', 'Tigers', 3, 1), datetime.date(2024, 5, 24): ('Mariners', 'Reds', 3, 1), datetime.date(2024, 5, 31): ('Mariners', 'Phillies', 3, 1), datetime.date(2024, 3, 26): ('Angels', 'Mariners', 3, 1), datetime.date(2024, 4, 23): ('Royals', 'Mariners', 3, 1), datetime.date(2024, 7, 2): ('Mariners', 'Yankees', 3, 1), datetime.date(2024, 4, 30): ('Mariners', 'Rangers', 3, 1), datetime.date(2024, 5, 21): ('Mariners', 'Orioles', 3, 1), datetime.date(2024, 6, 11): ('Red Sox', 'Mariners', 3, 1), datetime.date(2024, 9, 17): ('Twins', 'Mariners', 3, 1), datetime.date(2024, 5, 14): ('Orioles', 'Mariners', 3, 1), datetime.date(2024, 9, 3): ('Mariners', 'Astros', 3, 2), datetime.date(2024, 7, 23): ('Mariners', 'Royals', 3, 1), datetime.date(2024, 3, 19): ('Mariners', 'Marlins', 3, 1), datetime.date(2024, 4, 2): ('Rangers', 'Mariners', 3, 1), datetime.date(2024, 8, 20): ('Mariners', 'Rockies', 3, 1), datetime.date(2024, 5, 28): ('Mariners', 'Mets', 3, 1)}, 'Marlins': {datetime.date(2024, 8, 9): ('Angels', 'Marlins', 3, 1), datetime.date(2024, 5, 28): ('Astros', 'Marlins', 3, 1), datetime.date(2024, 4, 23): ('Marlins', 'White Sox', 3, 1), datetime.date(2024, 8, 30): ('Blue Jays', 'Marlins', 2, 1), datetime.date(2024, 7, 23): ('Marlins', 'Blue Jays', 2, 1), datetime.date(2024, 3, 22): ('Marlins', 'Brewers', 3, 1), datetime.date(2024, 5, 3): ('Braves', 'Marlins', 3, 1), datetime.date(2024, 7, 2): ('Marlins', 'Braves', 3, 1), datetime.date(2024, 4, 9): ('Marlins', 'Giants', 3, 1), datetime.date(2024, 7, 26): ('Brewers', 'Marlins', 4, 1), datetime.date(2024, 5, 31): ('Cardinals', 'Marlins', 4, 1), datetime.date(2024, 3, 19): ('Mariners', 'Marlins', 3, 1), datetime.date(2024, 9, 13): ('Marlins', 'Cubs', 3, 1), datetime.date(2024, 8, 13): ('Cubs', 'Marlins', 3, 1), datetime.date(2024, 4, 16): ('Marlins', 'Pirates', 3, 1), datetime.date(2024, 7, 9): ('Dodgers', 'Marlins', 3, 1), datetime.date(2024, 7, 5): ('Giants', 'Marlins', 4, 1), datetime.date(2024, 8, 16): ('Guardians', 'Marlins', 3, 1), datetime.date(2024, 5, 10): ('Marlins', 'Padres', 4, 1), datetime.date(2024, 4, 19): ('Marlins', 'Mets', 4, 1), datetime.date(2024, 6, 28): ('Marlins', 'Nationals', 4, 1), datetime.date(2024, 9, 20): ('Marlins', 'Phillies', 4, 1), datetime.date(2024, 4, 26): ('Braves', 'Marlins', 4, 1), datetime.date(2024, 3, 29): ('Marlins', 'Orioles', 3, 1), datetime.date(2024, 6, 14): ('Marlins', 'Nationals', 3, 1), datetime.date(2024, 5, 24): ('Marlins', 'Rays', 3, 1), datetime.date(2024, 5, 17): ('Reds', 'Marlins', 3, 1), datetime.date(2024, 4, 12): ('Marlins', 'Yankees', 3, 1), datetime.date(2024, 8, 2): ('Marlins', 'Dodgers', 3, 1), datetime.date(2024, 4, 5): ('Marlins', 'Mets', 3, 1), datetime.date(2024, 8, 23): ('Pirates', 'Marlins', 3, 1), datetime.date(2024, 7, 12): ('Marlins', 'Cardinals', 3, 1), datetime.date(2024, 9, 6): ('Mets', 'Marlins', 3, 2), datetime.date(2024, 6, 7): ('Marlins', 'White Sox', 3, 1), datetime.date(2024, 6, 21): ('Marlins', 'Red Sox', 3, 1), datetime.date(2024, 5, 7): ('Rockies', 'Marlins', 3, 1), datetime.date(2024, 8, 6): ('Marlins', 'Pirates', 3, 1), datetime.date(2024, 9, 3): ('Phillies', 'Marlins', 3, 2), datetime.date(2024, 4, 2): ('Nationals', 'Marlins', 3, 1), datetime.date(2024, 6, 25): ('Padres', 'Marlins', 3, 1), datetime.date(2024, 6, 18): ('Mets', 'Marlins', 3, 1), datetime.date(2024, 3, 26): ('Marlins', 'Rangers', 3, 1), datetime.date(2024, 9, 10): ('Phillies', 'Marlins', 3, 1), datetime.date(2024, 5, 14): ('Nationals', 'Marlins', 3, 2), datetime.date(2024, 7, 30): ('Marlins', 'Tigers', 3, 1), datetime.date(2024, 5, 21): ('Marlins', 'Braves', 3, 2), datetime.date(2024, 4, 30): ('Marlins', 'Diamondbacks', 3, 1), datetime.date(2024, 6, 11): ('Marlins', 'Rockies', 3, 1), datetime.date(2024, 8, 20): ('Marlins', 'Reds', 3, 1), datetime.date(2024, 6, 4): ('Marlins', 'Twins', 3, 1), datetime.date(2024, 9, 17): ('Nationals', 'Marlins', 3, 2), datetime.date(2024, 8, 27): ('Reds', 'Marlins', 3, 1)}, 'Mets': {datetime.date(2024, 9, 10): ('Guardians', 'Mets', 3, 1), datetime.date(2024, 5, 31): ('Astros', 'Mets', 3, 1), datetime.date(2024, 5, 7): ('Athletics', 'Mets', 3, 1), datetime.date(2024, 8, 13): ('Diamondbacks', 'Mets', 3, 1), datetime.date(2024, 6, 28): ('Braves', 'Mets', 4, 1), datetime.date(2024, 9, 6): ('Mets', 'Marlins', 3, 2), datetime.date(2024, 6, 7): ('Mets', 'Giants', 3, 1), datetime.date(2024, 3, 19): ('Mets', 'Braves', 3, 1), datetime.date(2024, 8, 16): ('Brewers', 'Mets', 3, 1), datetime.date(2024, 7, 30): ('Mets', 'Brewers', 3, 1), datetime.date(2024, 6, 14): ('Cardinals', 'Mets', 4, 1), datetime.date(2024, 4, 5): ('Marlins', 'Mets', 3, 1), datetime.date(2024, 6, 18): ('Mets', 'Marlins', 3, 1), datetime.date(2024, 5, 24): ('Mets', 'Diamondbacks', 3, 1), datetime.date(2024, 9, 17): ('Mets', 'Dodgers', 3, 1), datetime.date(2024, 8, 6): ('Dodgers', 'Mets', 3, 1), datetime.date(2024, 9, 13): ('Mets', 'Tigers', 3, 1), datetime.date(2024, 5, 28): ('Rockies', 'Mets', 3, 1), datetime.date(2024, 4, 19): ('Marlins', 'Mets', 4, 1), datetime.date(2024, 4, 26): ('Mets', 'Rockies', 4, 1), datetime.date(2024, 3, 22): ('Mets', 'Yankees', 3, 1), datetime.date(2024, 7, 26): ('Mets', 'Phillies', 4, 1), datetime.date(2024, 8, 9): ('Mets', 'Padres', 4, 1), datetime.date(2024, 7, 5): ('Mets', 'Red Sox', 2, 1), datetime.date(2024, 4, 12): ('Phillies', 'Mets', 3, 2), datetime.date(2024, 9, 20): ('Mets', 'Cardinals', 3, 1), datetime.date(2024, 8, 30): ('Mets', 'Orioles', 3, 1), datetime.date(2024, 6, 21): ('Mets', 'Tigers', 3, 1), datetime.date(2024, 7, 12): ('Blue Jays', 'Mets', 3, 1), datetime.date(2024, 5, 3): ('Mets', 'Phillies', 3, 1), datetime.date(2024, 8, 23): ('Mets', 'Royals', 3, 1), datetime.date(2024, 5, 17): ('Mets', 'Braves', 3, 2), datetime.date(2024, 5, 10): ('Mets', 'Reds', 3, 1), datetime.date(2024, 3, 29): ('Rockies', 'Mets', 3, 1), datetime.date(2024, 8, 2): ('Angels', 'Mets', 3, 1), datetime.date(2024, 4, 30): ('Mets', 'Red Sox', 2, 1), datetime.date(2024, 8, 27): ('Phillies', 'Mets', 3, 2), datetime.date(2024, 7, 23): ('Mets', 'White Sox', 3, 1), datetime.date(2024, 8, 20): ('Braves', 'Mets', 3, 1), datetime.date(2024, 7, 9): ('Padres', 'Mets', 3, 1), datetime.date(2024, 5, 14): ('Mets', 'Nationals', 3, 1), datetime.date(2024, 6, 11): ('Mets', 'Yankees', 3, 1), datetime.date(2024, 7, 2): ('Nationals', 'Mets', 3, 1), datetime.date(2024, 4, 16): ('Nationals', 'Mets', 3, 2), datetime.date(2024, 4, 9): ('Mets', 'Rangers', 3, 1), datetime.date(2024, 3, 26): ('Reds', 'Mets', 3, 1), datetime.date(2024, 4, 23): ('Mets', 'Cubs', 3, 1), datetime.date(2024, 9, 3): ('Mets', 'Twins', 3, 1), datetime.date(2024, 5, 21): ('Cubs', 'Mets', 3, 1), datetime.date(2024, 6, 25): ('Pirates', 'Mets', 3, 1), datetime.date(2024, 6, 4): ('Phillies', 'Mets', 3, 1), datetime.date(2024, 4, 2): ('Red Sox', 'Mets', 2, 1)}, 'Nationals': {datetime.date(2024, 5, 21): ('Dodgers', 'Nationals', 3, 1), datetime.date(2024, 9, 6): ('Astros', 'Nationals', 3, 1), datetime.date(2024, 7, 9): ('Athletics', 'Nationals', 3, 1), datetime.date(2024, 6, 28): ('Marlins', 'Nationals', 4, 1), datetime.date(2024, 7, 26): ('Braves', 'Nationals', 4, 1), datetime.date(2024, 4, 2): ('Nationals', 'Marlins', 3, 1), datetime.date(2024, 6, 11): ('Nationals', 'Braves', 3, 2), datetime.date(2024, 5, 14): ('Mets', 'Nationals', 3, 1), datetime.date(2024, 8, 9): ('Brewers', 'Nationals', 4, 1), datetime.date(2024, 7, 12): ('Nationals', 'Diamondbacks', 3, 1), datetime.date(2024, 4, 16): ('Nationals', 'Mets', 3, 2), datetime.date(2024, 8, 2): ('Cubs', 'Nationals', 4, 1), datetime.date(2024, 7, 23): ('Nationals', 'Cubs', 3, 1), datetime.date(2024, 7, 5): ('Mets', 'Nationals', 4, 1), datetime.date(2024, 8, 30): ('Giants', 'Nationals', 4, 1), datetime.date(2024, 5, 17): ('Guardians', 'Nationals', 3, 1), datetime.date(2024, 4, 12): ('Mariners', 'Nationals', 3, 1), datetime.date(2024, 6, 14): ('Marlins', 'Nationals', 3, 1), datetime.date(2024, 7, 2): ('Nationals', 'Twins', 3, 1), datetime.date(2024, 3, 29): ('Nationals', 'Phillies', 4, 1), datetime.date(2024, 8, 16): ('Nationals', 'Reds', 3, 1), datetime.date(2024, 3, 22): ('Rockies', 'Nationals', 3, 1), datetime.date(2024, 6, 7): ('Nationals', 'Tigers', 3, 1), datetime.date(2024, 8, 23): ('Nationals', 'Red Sox', 3, 1), datetime.date(2024, 4, 19): ('Blue Jays', 'Nationals', 3, 1), datetime.date(2024, 9, 20): ('Rays', 'Nationals', 2, 1), datetime.date(2024, 5, 31): ('Reds', 'Nationals', 3, 1), datetime.date(2024, 5, 3): ('Nationals', 'Padres', 3, 1), datetime.date(2024, 4, 5): ('Nationals', 'Royals', 3, 1), datetime.date(2024, 5, 24): ('Nationals', 'Dodgers', 3, 1), datetime.date(2024, 6, 21): ('Nationals', 'Yankees', 3, 1), datetime.date(2024, 5, 10): ('Phillies', 'Nationals', 3, 1), datetime.date(2024, 4, 26): ('Nationals', 'Twins', 3, 1), datetime.date(2024, 9, 13): ('Nationals', 'Orioles', 3, 1), datetime.date(2024, 3, 26): ('Nationals', 'White Sox', 3, 1), datetime.date(2024, 8, 13): ('Phillies', 'Nationals', 3, 2), datetime.date(2024, 8, 6): ('Angels', 'Nationals', 3, 1), datetime.date(2024, 9, 17): ('Nationals', 'Marlins', 3, 2), datetime.date(2024, 9, 10): ('Nationals', 'Pirates', 3, 1), datetime.date(2024, 4, 30): ('Pirates', 'Nationals', 3, 1), datetime.date(2024, 5, 28): ('Nationals', 'Rays', 2, 1), datetime.date(2024, 6, 4): ('Nationals', 'Rockies', 3, 1), datetime.date(2024, 4, 9): ('Padres', 'Nationals', 3, 1), datetime.date(2024, 5, 7): ('Rays', 'Nationals', 2, 1), datetime.date(2024, 7, 30): ('Nationals', 'Reds', 3, 1), datetime.date(2024, 8, 27): ('Nationals', 'Giants', 3, 1), datetime.date(2024, 9, 3): ('Braves', 'Nationals', 3, 1), datetime.date(2024, 8, 20): ('Nationals', 'Braves', 3, 1), datetime.date(2024, 4, 23): ('Nationals', 'Cardinals', 3, 1), datetime.date(2024, 3, 19): ('Nationals', 'Brewers', 3, 1), datetime.date(2024, 6, 18): ('Nationals', 'Rangers', 3, 1), datetime.date(2024, 6, 25): ('Cardinals', 'Nationals', 3, 1)}, 'Orioles': {datetime.date(2024, 5, 28): ('Angels', 'Orioles', 3, 1), datetime.date(2024, 7, 2): ('Orioles', 'Angels', 3, 1), datetime.date(2024, 4, 12): ('Blue Jays', 'Orioles', 4, 1), datetime.date(2024, 3, 26): ('Cardinals', 'Orioles', 3, 1), datetime.date(2024, 3, 22): ('Orioles', 'Guardians', 3, 1), datetime.date(2024, 7, 23): ('Orioles', 'Athletics', 3, 1), datetime.date(2024, 7, 26): ('Orioles', 'Blue Jays', 3, 1), datetime.date(2024, 4, 16): ('Blue Jays', 'Orioles', 3, 1), datetime.date(2024, 7, 9): ('Orioles', 'Blue Jays', 3, 2), datetime.date(2024, 8, 16): ('Orioles', 'Braves', 2, 1), datetime.date(2024, 8, 2): ('Braves', 'Orioles', 2, 1), datetime.date(2024, 6, 25): ('Brewers', 'Orioles', 3, 1), datetime.date(2024, 7, 5): ('Cubs', 'Orioles', 3, 1), datetime.date(2024, 4, 5): ('Diamondbacks', 'Orioles', 3, 1), datetime.date(2024, 4, 30): ('Dodgers', 'Orioles', 3, 1), datetime.date(2024, 5, 14): ('Orioles', 'Mariners', 3, 1), datetime.date(2024, 3, 29): ('Marlins', 'Orioles', 3, 1), datetime.date(2024, 5, 21): ('Mariners', 'Orioles', 3, 1), datetime.date(2024, 8, 30): ('Mets', 'Orioles', 3, 1), datetime.date(2024, 9, 13): ('Nationals', 'Orioles', 3, 1), datetime.date(2024, 5, 31): ('Orioles', 'Tigers', 4, 1), datetime.date(2024, 5, 17): ('Orioles', 'Red Sox', 4, 1), datetime.date(2024, 4, 26): ('Orioles', 'Royals', 4, 1), datetime.date(2024, 6, 14): ('Orioles', 'Rangers', 4, 1), datetime.date(2024, 8, 23): ('Orioles', 'Yankees', 4, 1), datetime.date(2024, 9, 20): ('Orioles', 'Rays', 4, 1), datetime.date(2024, 6, 7): ('Astros', 'Orioles', 4, 1), datetime.date(2024, 8, 9): ('Athletics', 'Orioles', 3, 1), datetime.date(2024, 6, 21): ('Tigers', 'Orioles', 3, 1), datetime.date(2024, 9, 6): ('Red Sox', 'Orioles', 3, 1), datetime.date(2024, 5, 10): ('Yankees', 'Orioles', 3, 1), datetime.date(2024, 5, 24): ('Guardians', 'Orioles', 3, 1), datetime.date(2024, 6, 28): ('Rays', 'Orioles', 3, 2), datetime.date(2024, 5, 3): ('White Sox', 'Orioles', 3, 1), datetime.date(2024, 4, 19): ('Red Sox', 'Orioles', 3, 2), datetime.date(2024, 7, 12): ('Giants', 'Orioles', 3, 1), datetime.date(2024, 8, 20): ('Red Sox', 'Orioles', 3, 1), datetime.date(2024, 8, 27): ('Orioles', 'Astros', 3, 1), datetime.date(2024, 7, 30): ('Orioles', 'Twins', 3, 1), datetime.date(2024, 6, 11): ('Orioles', 'Phillies', 3, 1), datetime.date(2024, 6, 18): ('Orioles', 'Padres', 3, 1), datetime.date(2024, 9, 10): ('Orioles', 'Reds', 3, 1), datetime.date(2024, 9, 3): ('Orioles', 'Rays', 3, 1), datetime.date(2024, 4, 2): ('Yankees', 'Orioles', 3, 2), datetime.date(2024, 4, 23): ('Twins', 'Orioles', 3, 1), datetime.date(2024, 8, 13): ('Orioles', 'White Sox', 3, 1), datetime.date(2024, 3, 19): ('Orioles', 'Pirates', 3, 1), datetime.date(2024, 9, 17): ('Rays', 'Orioles', 3, 1), datetime.date(2024, 4, 9): ('Orioles', 'Yankees', 3, 1), datetime.date(2024, 6, 4): ('Rangers', 'Orioles', 3, 1), datetime.date(2024, 8, 6): ('Orioles', 'Rockies', 3, 1), datetime.date(2024, 5, 7): ('Orioles', 'Red Sox', 3, 1)}, 'Padres': {datetime.date(2024, 5, 31): ('Angels', 'Padres', 3, 1), datetime.date(2024, 4, 26): ('Astros', 'Padres', 3, 1), datetime.date(2024, 5, 24): ('Athletics', 'Padres', 3, 1), datetime.date(2024, 6, 4): ('Blue Jays', 'Padres', 3, 1), datetime.date(2024, 7, 12): ('Padres', 'Braves', 3, 1), datetime.date(2024, 8, 30): ('Mariners', 'Padres', 3, 1), datetime.date(2024, 7, 9): ('Padres', 'Mets', 3, 1), datetime.date(2024, 3, 26): ('Giants', 'Padres', 3, 1), datetime.date(2024, 9, 13): ('Padres', 'Cardinals', 3, 1), datetime.date(2024, 5, 21): ('Cardinals', 'Padres', 3, 1), datetime.date(2024, 9, 3): ('Reds', 'Padres', 3, 1), datetime.date(2024, 6, 25): ('Padres', 'Marlins', 3, 1), datetime.date(2024, 3, 22): ('Diamondbacks', 'Padres', 4, 1), datetime.date(2024, 8, 16): ('Padres', 'Diamondbacks', 3, 1), datetime.date(2024, 5, 28): ('Padres', 'Diamondbacks', 3, 2), datetime.date(2024, 5, 10): ('Marlins', 'Padres', 4, 1), datetime.date(2024, 4, 9): ('Padres', 'Nationals', 3, 1), datetime.date(2024, 9, 10): ('Padres', 'Dodgers', 3, 2), datetime.date(2024, 9, 6): ('Giants', 'Padres', 4, 1), datetime.date(2024, 8, 2): ('Padres', 'Giants', 3, 1), datetime.date(2024, 8, 6): ('Padres', 'Giants', 3, 2), datetime.date(2024, 5, 14): ('Guardians', 'Padres', 3, 1), datetime.date(2024, 8, 9): ('Mets', 'Padres', 4, 1), datetime.date(2024, 5, 3): ('Padres', 'Reds', 4, 1), datetime.date(2024, 6, 18): ('Orioles', 'Padres', 3, 1), datetime.date(2024, 6, 21): ('Dodgers', 'Padres', 4, 1), datetime.date(2024, 3, 29): ('Padres', 'Rockies', 4, 1), datetime.date(2024, 6, 14): ('Padres', 'Pirates', 4, 1), datetime.date(2024, 4, 5): ('Padres', 'Reds', 4, 1), datetime.date(2024, 4, 19): ('Cubs', 'Padres', 3, 1), datetime.date(2024, 5, 17): ('Diamondbacks', 'Padres', 3, 1), datetime.date(2024, 8, 23): ('Padres', 'Brewers', 3, 1), datetime.date(2024, 7, 26): ('Padres', 'Rangers', 2, 1), datetime.date(2024, 6, 7): ('Braves', 'Padres', 3, 1), datetime.date(2024, 4, 12): ('Dodgers', 'Padres', 3, 1), datetime.date(2024, 6, 28): ('Pirates', 'Padres', 3, 1), datetime.date(2024, 9, 20): ('Padres', 'Twins', 3, 1), datetime.date(2024, 7, 5): ('Padres', 'Yankees', 3, 1), datetime.date(2024, 4, 23): ('Padres', 'Rockies', 3, 1), datetime.date(2024, 7, 2): ('Padres', 'Cubs', 3, 1), datetime.date(2024, 5, 7): ('Padres', 'White Sox', 3, 1), datetime.date(2024, 7, 30): ('Reds', 'Padres', 3, 1), datetime.date(2024, 3, 19): ('Padres', 'Red Sox', 3, 1), datetime.date(2024, 8, 27): ('Phillies', 'Padres', 3, 1), datetime.date(2024, 4, 2): ('Padres', 'Phillies', 3, 1), datetime.date(2024, 7, 23): ('Rockies', 'Padres', 3, 1), datetime.date(2024, 4, 16): ('Padres', 'Rays', 3, 1), datetime.date(2024, 8, 13): ('Rangers', 'Padres', 2, 1), datetime.date(2024, 8, 20): ('Rockies', 'Padres', 3, 2), datetime.date(2024, 9, 17): ('Padres', 'Tigers', 3, 1), datetime.date(2024, 4, 30): ('Brewers', 'Padres', 3, 1), datetime.date(2024, 6, 11): ('Padres', 'Royals', 3, 1)}, 'Phillies': {datetime.date(2024, 8, 30): ('Angels', 'Phillies', 3, 1), datetime.date(2024, 8, 20): ('Astros', 'Phillies', 3, 1), datetime.date(2024, 7, 2): ('Brewers', 'Phillies', 3, 1), datetime.date(2024, 8, 27): ('Rockies', 'Phillies', 3, 1), datetime.date(2024, 9, 20): ('Marlins', 'Phillies', 4, 1), datetime.date(2024, 6, 14): ('Phillies', 'Cubs', 3, 1), datetime.date(2024, 6, 18): ('Phillies', 'Braves', 3, 2), datetime.date(2024, 3, 26): ('Braves', 'Phillies', 3, 1), datetime.date(2024, 3, 19): ('Phillies', 'Brewers', 3, 1), datetime.date(2024, 6, 28): ('Phillies', 'Dodgers', 3, 1), datetime.date(2024, 7, 9): ('Cardinals', 'Phillies', 3, 1), datetime.date(2024, 8, 23): ('Cubs', 'Phillies', 4, 1), datetime.date(2024, 5, 17): ('Marlins', 'Phillies', 3, 1), datetime.date(2024, 5, 24): ('Dodgers', 'Phillies', 4, 1), datetime.date(2024, 3, 29): ('Nationals', 'Phillies', 4, 1), datetime.date(2024, 5, 7): ('Nationals', 'Phillies', 3, 1), datetime.date(2024, 7, 12): ('Guardians', 'Phillies', 3, 1), datetime.date(2024, 5, 31): ('Mariners', 'Phillies', 3, 1), datetime.date(2024, 9, 3): ('Phillies', 'Marlins', 3, 2), datetime.date(2024, 9, 10): ('Phillies', 'Marlins', 3, 1), datetime.date(2024, 7, 26): ('Mets', 'Phillies', 4, 1), datetime.date(2024, 5, 3): ('Mets', 'Phillies', 3, 1), datetime.date(2024, 6, 4): ('Phillies', 'Mets', 3, 1), datetime.date(2024, 5, 10): ('Phillies', 'Nationals', 3, 1), datetime.date(2024, 8, 13): ('Phillies', 'Yankees', 2, 1), datetime.date(2024, 6, 11): ('Orioles', 'Phillies', 3, 1), datetime.date(2024, 4, 2): ('Padres', 'Phillies', 3, 1), datetime.date(2024, 9, 6): ('Phillies', 'White Sox', 3, 1), datetime.date(2024, 7, 5): ('Phillies', 'Reds', 4, 1), datetime.date(2024, 3, 22): ('Diamondbacks', 'Phillies', 4, 1), datetime.date(2024, 8, 9): ('Phillies', 'Yankees', 2, 1), datetime.date(2024, 4, 5): ('Reds', 'Phillies', 3, 1), datetime.date(2024, 6, 21): ('Phillies', 'White Sox', 3, 1), datetime.date(2024, 6, 7): ('Rockies', 'Phillies', 3, 1), datetime.date(2024, 9, 13): ('Phillies', 'Braves', 3, 1), datetime.date(2024, 4, 12): ('Phillies', 'Mets', 3, 2), datetime.date(2024, 8, 2): ('Phillies', 'Royals', 3, 1), datetime.date(2024, 4, 19): ('Phillies', 'Rays', 3, 1), datetime.date(2024, 4, 26): ('Yankees', 'Phillies', 2, 1), datetime.date(2024, 8, 16): ('Phillies', 'Giants', 3, 1), datetime.date(2024, 6, 25): ('Phillies', 'Cardinals', 3, 1), datetime.date(2024, 5, 14): ('Athletics', 'Phillies', 3, 1), datetime.date(2024, 5, 28): ('Phillies', 'Twins', 3, 1), datetime.date(2024, 4, 23): ('Phillies', 'Tigers', 3, 1), datetime.date(2024, 8, 6): ('Phillies', 'Pirates', 3, 1), datetime.date(2024, 4, 9): ('Pirates', 'Phillies', 3, 1), datetime.date(2024, 5, 21): ('Phillies', 'Rockies', 3, 1), datetime.date(2024, 4, 16): ('Phillies', 'Diamondbacks', 3, 1), datetime.date(2024, 9, 17): ('Blue Jays', 'Phillies', 3, 1), datetime.date(2024, 7, 30): ('Phillies', 'Rangers', 3, 1), datetime.date(2024, 7, 23): ('Giants', 'Phillies', 3, 1), datetime.date(2024, 4, 30): ('Phillies', 'Red Sox', 3, 1)}, 'Pirates': {datetime.date(2024, 5, 10): ('Cubs', 'Pirates', 4, 1), datetime.date(2024, 9, 17): ('Astros', 'Pirates', 3, 1), datetime.date(2024, 5, 14): ('Athletics', 'Pirates', 3, 1), datetime.date(2024, 3, 26): ('Pirates', 'Twins', 3, 1), datetime.date(2024, 9, 13): ('Braves', 'Pirates', 4, 1), datetime.date(2024, 7, 9): ('Pirates', 'Braves', 3, 1), datetime.date(2024, 9, 6): ('Diamondbacks', 'Pirates', 3, 1), datetime.date(2024, 6, 11): ('Pirates', 'Diamondbacks', 3, 1), datetime.date(2024, 8, 6): ('Phillies', 'Pirates', 3, 1), datetime.date(2024, 5, 7): ('Pirates', 'Brewers', 3, 1), datetime.date(2024, 8, 9): ('Cardinals', 'Pirates', 4, 1), datetime.date(2024, 9, 20): ('Pirates', 'Cardinals', 3, 1), datetime.date(2024, 6, 4): ('Pirates', 'Cardinals', 3, 2), datetime.date(2024, 5, 28): ('Cardinals', 'Pirates', 3, 1), datetime.date(2024, 5, 3): ('Pirates', 'Cubs', 3, 2), datetime.date(2024, 8, 20): ('Cubs', 'Pirates', 3, 1), datetime.date(2024, 3, 19): ('Orioles', 'Pirates', 3, 1), datetime.date(2024, 4, 12): ('Pirates', 'Dodgers', 3, 1), datetime.date(2024, 3, 22): ('Mets', 'Pirates', 4, 1), datetime.date(2024, 6, 28): ('Pirates', 'Padres', 3, 1), datetime.date(2024, 6, 21): ('Pirates', 'Giants', 3, 1), datetime.date(2024, 4, 30): ('Pirates', 'Nationals', 3, 1), datetime.date(2024, 8, 16): ('Mariners', 'Pirates', 3, 1), datetime.date(2024, 8, 23): ('Pirates', 'Marlins', 3, 1), datetime.date(2024, 6, 25): ('Pirates', 'Mets', 3, 1), datetime.date(2024, 9, 10): ('Nationals', 'Pirates', 3, 1), datetime.date(2024, 6, 14): ('Padres', 'Pirates', 4, 1), datetime.date(2024, 4, 9): ('Pirates', 'Phillies', 3, 1), datetime.date(2024, 5, 17): ('Brewers', 'Pirates', 4, 1), datetime.date(2024, 8, 30): ('Pirates', 'Reds', 4, 1), datetime.date(2024, 7, 5): ('Giants', 'Pirates', 4, 1), datetime.date(2024, 4, 5): ('Pirates', 'Cubs', 3, 1), datetime.date(2024, 6, 7): ('Pirates', 'Rockies', 3, 1), datetime.date(2024, 7, 12): ('Pirates', 'Yankees', 3, 1), datetime.date(2024, 4, 26): ('Pirates', 'Rays', 3, 1), datetime.date(2024, 3, 29): ('Guardians', 'Pirates', 3, 1), datetime.date(2024, 5, 24): ('Rockies', 'Pirates', 3, 1), datetime.date(2024, 5, 31): ('Brewers', 'Pirates', 3, 1), datetime.date(2024, 4, 19): ('White Sox', 'Pirates', 2, 1), datetime.date(2024, 7, 26): ('Pirates', 'Twins', 3, 1), datetime.date(2024, 8, 2): ('Reds', 'Pirates', 3, 2), datetime.date(2024, 8, 27): ('Angels', 'Pirates', 3, 1), datetime.date(2024, 4, 2): ('Pirates', 'Rangers', 3, 1), datetime.date(2024, 7, 30): ('Pirates', 'Reds', 3, 1), datetime.date(2024, 4, 23): ('Pirates', 'Royals', 3, 1), datetime.date(2024, 6, 18): ('Pirates', 'Brewers', 3, 2), datetime.date(2024, 5, 21): ('Pirates', 'White Sox', 2, 1), datetime.date(2024, 7, 2): ('Dodgers', 'Pirates', 3, 1), datetime.date(2024, 9, 3): ('Pirates', 'Red Sox', 3, 1), datetime.date(2024, 7, 23): ('Pirates', 'Tigers', 3, 1), datetime.date(2024, 4, 16): ('Marlins', 'Pirates', 3, 1), datetime.date(2024, 8, 13): ('Reds', 'Pirates', 3, 1)}, 'Rangers': {datetime.date(2024, 6, 28): ('Angels', 'Rangers', 4, 1), datetime.date(2024, 3, 19): ('Rangers', 'Athletics', 3, 1), datetime.date(2024, 8, 20): ('Blue Jays', 'Rangers', 3, 1), datetime.date(2024, 4, 23): ('Rangers', 'Angels', 3, 2), datetime.date(2024, 6, 7): ('Athletics', 'Rangers', 4, 1), datetime.date(2024, 3, 29): ('Rangers', 'Astros', 3, 2), datetime.date(2024, 4, 16): ('Astros', 'Rangers', 3, 1), datetime.date(2024, 4, 5): ('Athletics', 'Rangers', 3, 1), datetime.date(2024, 4, 9): ('Mets', 'Rangers', 3, 1), datetime.date(2024, 7, 12): ('Rangers', 'Blue Jays', 3, 1), datetime.date(2024, 9, 17): ('Braves', 'Rangers', 3, 1), datetime.date(2024, 7, 5): ('Brewers', 'Rangers', 3, 1), datetime.date(2024, 4, 30): ('Mariners', 'Rangers', 3, 1), datetime.date(2024, 5, 14): ('Cubs', 'Rangers', 3, 1), datetime.date(2024, 7, 23): ('Diamondbacks', 'Rangers', 3, 1), datetime.date(2024, 8, 30): ('Dodgers', 'Rangers', 3, 1), datetime.date(2024, 8, 27): ('Giants', 'Rangers', 3, 1), datetime.date(2024, 8, 2): ('Guardians', 'Rangers', 4, 1), datetime.date(2024, 9, 20): ('Rangers', 'Guardians', 3, 1), datetime.date(2024, 5, 17): ('Mariners', 'Rangers', 4, 1), datetime.date(2024, 7, 26): ('Padres', 'Rangers', 2, 1), datetime.date(2024, 4, 2): ('Pirates', 'Rangers', 3, 1), datetime.date(2024, 3, 26): ('Marlins', 'Rangers', 3, 1), datetime.date(2024, 6, 18): ('Nationals', 'Rangers', 3, 1), datetime.date(2024, 6, 14): ('Orioles', 'Rangers', 4, 1), datetime.date(2024, 6, 4): ('Rangers', 'Orioles', 3, 1), datetime.date(2024, 8, 13): ('Rangers', 'Padres', 2, 1), datetime.date(2024, 7, 30): ('Phillies', 'Rangers', 3, 1), datetime.date(2024, 5, 3): ('Astros', 'Rangers', 4, 1), datetime.date(2024, 4, 26): ('Rangers', 'Twins', 4, 1), datetime.date(2024, 5, 10): ('Rangers', 'Red Sox', 4, 1), datetime.date(2024, 8, 16): ('Yankees', 'Rangers', 3, 1), datetime.date(2024, 8, 9): ('Rangers', 'Yankees', 3, 1), datetime.date(2024, 4, 12): ('Angels', 'Rangers', 3, 1), datetime.date(2024, 3, 22): ('Royals', 'Rangers', 3, 1), datetime.date(2024, 5, 24): ('Yankees', 'Rangers', 3, 1), datetime.date(2024, 9, 13): ('Red Sox', 'Rangers', 3, 1), datetime.date(2024, 6, 21): ('White Sox', 'Rangers', 3, 1), datetime.date(2024, 4, 19): ('Rangers', 'Mariners', 3, 1), datetime.date(2024, 5, 31): ('Rangers', 'Royals', 3, 1), datetime.date(2024, 8, 23): ('Rangers', 'Rockies', 3, 1), datetime.date(2024, 9, 6): ('Rangers', 'Athletics', 3, 2), datetime.date(2024, 6, 11): ('Rangers', 'Angels', 3, 1), datetime.date(2024, 5, 7): ('Rangers', 'Astros', 3, 1), datetime.date(2024, 9, 10): ('Rangers', 'Mariners', 3, 2), datetime.date(2024, 5, 21): ('Rangers', 'Rays', 3, 1), datetime.date(2024, 6, 25): ('Twins', 'Rangers', 3, 1), datetime.date(2024, 7, 2): ('Tigers', 'Rangers', 3, 1), datetime.date(2024, 7, 9): ('Rays', 'Rangers', 3, 1), datetime.date(2024, 9, 3): ('Rangers', 'White Sox', 3, 1), datetime.date(2024, 8, 6): ('Rangers', 'Tigers', 3, 1), datetime.date(2024, 5, 28): ('Rangers', 'Reds', 3, 1)}, 'Rays': {datetime.date(2024, 9, 20): ('Orioles', 'Rays', 4, 1), datetime.date(2024, 5, 14): ('Diamondbacks', 'Rays', 3, 1), datetime.date(2024, 7, 30): ('Rays', 'Astros', 3, 1), datetime.date(2024, 5, 31): ('Rays', 'Athletics', 3, 1), datetime.date(2024, 4, 26): ('Pirates', 'Rays', 3, 1), datetime.date(2024, 4, 9): ('Rays', 'Blue Jays', 3, 2), datetime.date(2024, 9, 17): ('Rays', 'Orioles', 3, 1), datetime.date(2024, 9, 3): ('Orioles', 'Rays', 3, 1), datetime.date(2024, 6, 21): ('Brewers', 'Rays', 3, 1), datetime.date(2024, 5, 3): ('Cardinals', 'Rays', 3, 1), datetime.date(2024, 7, 26): ('Cubs', 'Rays', 3, 1), datetime.date(2024, 8, 27): ('Dodgers', 'Rays', 3, 1), datetime.date(2024, 6, 14): ('Guardians', 'Rays', 4, 1), datetime.date(2024, 4, 23): ('Rays', 'Guardians', 3, 1), datetime.date(2024, 9, 13): ('Mariners', 'Rays', 4, 1), datetime.date(2024, 3, 29): ('Rays', 'Mariners', 3, 1), datetime.date(2024, 5, 24): ('Marlins', 'Rays', 3, 1), datetime.date(2024, 4, 12): ('Mets', 'Rays', 3, 1), datetime.date(2024, 5, 28): ('Nationals', 'Rays', 2, 1), datetime.date(2024, 6, 28): ('Rays', 'Orioles', 3, 2), datetime.date(2024, 4, 16): ('Padres', 'Rays', 3, 1), datetime.date(2024, 4, 19): ('Phillies', 'Rays', 3, 1), datetime.date(2024, 5, 21): ('Rangers', 'Rays', 3, 1), datetime.date(2024, 7, 9): ('Rays', 'Rangers', 3, 1), datetime.date(2024, 9, 6): ('Rays', 'Red Sox', 4, 1), datetime.date(2024, 8, 16): ('Rays', 'Yankees', 4, 1), datetime.date(2024, 8, 23): ('Rays', 'Twins', 4, 1), datetime.date(2024, 8, 9): ('Blue Jays', 'Rays', 4, 1), datetime.date(2024, 5, 10): ('Athletics', 'Rays', 4, 1), datetime.date(2024, 5, 17): ('Royals', 'Rays', 3, 1), datetime.date(2024, 6, 7): ('Yankees', 'Rays', 3, 1), datetime.date(2024, 4, 5): ('Rays', 'Tigers', 3, 1), datetime.date(2024, 7, 12): ('Rays', 'Rockies', 3, 1), datetime.date(2024, 7, 5): ('Rays', 'Angels', 3, 1), datetime.date(2024, 8, 30): ('Rays', 'Yankees', 3, 1), datetime.date(2024, 3, 22): ('Red Sox', 'Rays', 3, 1), datetime.date(2024, 8, 2): ('Braves', 'Rays', 3, 1), datetime.date(2024, 4, 2): ('Rays', 'Royals', 3, 1), datetime.date(2024, 8, 6): ('Giants', 'Rays', 3, 1), datetime.date(2024, 7, 23): ('Rays', 'Reds', 3, 1), datetime.date(2024, 8, 20): ('Yankees', 'Rays', 3, 2), datetime.date(2024, 8, 13): ('Blue Jays', 'Rays', 3, 1), datetime.date(2024, 6, 11): ('Astros', 'Rays', 3, 1), datetime.date(2024, 6, 4): ('Red Sox', 'Rays', 3, 2), datetime.date(2024, 3, 26): ('Tigers', 'Rays', 3, 1), datetime.date(2024, 4, 30): ('Twins', 'Rays', 3, 1), datetime.date(2024, 9, 10): ('Rays', 'Blue Jays', 3, 1), datetime.date(2024, 7, 2): ('Angels', 'Rays', 3, 1), datetime.date(2024, 3, 19): ('White Sox', 'Rays', 3, 1), datetime.date(2024, 5, 7): ('Rays', 'Nationals', 2, 1), datetime.date(2024, 6, 25): ('Rays', 'Red Sox', 3, 1), datetime.date(2024, 6, 18): ('Rays', 'White Sox', 3, 1)}, 'Red Sox': {datetime.date(2024, 3, 22): ('Red Sox', 'Rays', 3, 1), datetime.date(2024, 3, 29): ('Angels', 'Red Sox', 3, 1), datetime.date(2024, 6, 25): ('Rays', 'Red Sox', 3, 1), datetime.date(2024, 9, 3): ('Pirates', 'Red Sox', 3, 1), datetime.date(2024, 5, 28): ('Cubs', 'Red Sox', 3, 1), datetime.date(2024, 6, 18): ('Athletics', 'Red Sox', 3, 1), datetime.date(2024, 5, 24): ('Blue Jays', 'Red Sox', 4, 1), datetime.date(2024, 4, 23): ('Red Sox', 'Blue Jays', 3, 2), datetime.date(2024, 6, 11): ('Red Sox', 'Mariners', 3, 1), datetime.date(2024, 5, 7): ('Orioles', 'Red Sox', 3, 1), datetime.date(2024, 4, 9): ('Brewers', 'Red Sox', 3, 1), datetime.date(2024, 7, 9): ('Red Sox', 'Guardians', 3, 1), datetime.date(2024, 9, 6): ('Rays', 'Red Sox', 4, 1), datetime.date(2024, 4, 5): ('Giants', 'Red Sox', 3, 1), datetime.date(2024, 4, 19): ('Red Sox', 'Orioles', 3, 2), datetime.date(2024, 6, 28): ('Mariners', 'Red Sox', 4, 1), datetime.date(2024, 6, 21): ('Marlins', 'Red Sox', 3, 1), datetime.date(2024, 4, 30): ('Phillies', 'Red Sox', 3, 1), datetime.date(2024, 4, 2): ('Red Sox', 'Mets', 2, 1), datetime.date(2024, 8, 23): ('Nationals', 'Red Sox', 3, 1), datetime.date(2024, 5, 17): ('Orioles', 'Red Sox', 4, 1), datetime.date(2024, 3, 19): ('Padres', 'Red Sox', 3, 1), datetime.date(2024, 5, 10): ('Rangers', 'Red Sox', 4, 1), datetime.date(2024, 9, 13): ('Red Sox', 'Rangers', 3, 1), datetime.date(2024, 6, 4): ('Red Sox', 'Rays', 3, 2), datetime.date(2024, 8, 2): ('Guardians', 'Red Sox', 4, 1), datetime.date(2024, 4, 12): ('Red Sox', 'Royals', 4, 1), datetime.date(2024, 5, 31): ('Red Sox', 'Yankees', 4, 1), datetime.date(2024, 6, 14): ('Red Sox', 'Rockies', 3, 1), datetime.date(2024, 4, 26): ('Tigers', 'Red Sox', 3, 1), datetime.date(2024, 5, 3): ('Cardinals', 'Red Sox', 3, 1), datetime.date(2024, 7, 12): ('Red Sox', 'Twins', 3, 1), datetime.date(2024, 8, 9): ('White Sox', 'Red Sox', 3, 1), datetime.date(2024, 8, 30): ('Braves', 'Red Sox', 3, 1), datetime.date(2024, 8, 16): ('Red Sox', 'Tigers', 3, 1), datetime.date(2024, 7, 26): ('Twins', 'Red Sox', 3, 1), datetime.date(2024, 6, 7): ('Diamondbacks', 'Red Sox', 3, 1), datetime.date(2024, 7, 5): ('Twins', 'Red Sox', 3, 1), datetime.date(2024, 9, 20): ('Yankees', 'Red Sox', 3, 1), datetime.date(2024, 9, 10): ('Astros', 'Red Sox', 3, 1), datetime.date(2024, 8, 6): ('Dodgers', 'Red Sox', 3, 1), datetime.date(2024, 9, 17): ('Red Sox', 'Yankees', 3, 1), datetime.date(2024, 8, 27): ('Red Sox', 'Reds', 3, 1), datetime.date(2024, 5, 21): ('Red Sox', 'Angels', 3, 1), datetime.date(2024, 8, 20): ('Red Sox', 'Orioles', 3, 1), datetime.date(2024, 8, 13): ('Red Sox', 'Athletics', 3, 1), datetime.date(2024, 7, 30): ('Royals', 'Red Sox', 3, 1), datetime.date(2024, 5, 14): ('Blue Jays', 'Red Sox', 3, 1), datetime.date(2024, 7, 23): ('Red Sox', 'Astros', 3, 1), datetime.date(2024, 7, 2): ('Red Sox', 'Blue Jays', 3, 1), datetime.date(2024, 4, 16): ('Red Sox', 'White Sox', 3, 1), datetime.date(2024, 3, 26): ('Yankees', 'Red Sox', 3, 2)}, 'Reds': {datetime.date(2024, 4, 2): ('Reds', 'Cubs', 3, 1), datetime.date(2024, 4, 23): ('Reds', 'Cubs', 3, 2), datetime.date(2024, 3, 26): ('Reds', 'Mets', 3, 1), datetime.date(2024, 3, 29): ('Reds', 'Cardinals', 3, 2), datetime.date(2024, 4, 5): ('Reds', 'Phillies', 3, 1), datetime.date(2024, 5, 28): ('Rangers', 'Reds', 3, 1), datetime.date(2024, 4, 12): ('Cubs', 'Reds', 3, 1), datetime.date(2024, 8, 23): ('Brewers', 'Reds', 3, 1), datetime.date(2024, 6, 14): ('Reds', 'Dodgers', 3, 1), datetime.date(2024, 9, 20): ('Reds', 'Brewers', 3, 2), datetime.date(2024, 7, 26): ('Cardinals', 'Reds', 4, 1), datetime.date(2024, 4, 19): ('Cardinals', 'Reds', 3, 1), datetime.date(2024, 4, 26): ('Cubs', 'Reds', 4, 1), datetime.date(2024, 6, 7): ('Reds', 'Diamondbacks', 3, 1), datetime.date(2024, 5, 21): ('Diamondbacks', 'Reds', 3, 1), datetime.date(2024, 8, 13): ('Reds', 'Pirates', 3, 1), datetime.date(2024, 3, 19): ('Guardians', 'Reds', 3, 1), datetime.date(2024, 9, 17): ('Giants', 'Reds', 3, 1), datetime.date(2024, 5, 24): ('Mariners', 'Reds', 3, 1), datetime.date(2024, 8, 20): ('Marlins', 'Reds', 3, 1), datetime.date(2024, 8, 27): ('Red Sox', 'Reds', 3, 1), datetime.date(2024, 5, 10): ('Mets', 'Reds', 3, 1), datetime.date(2024, 5, 31): ('Reds', 'Nationals', 3, 1), datetime.date(2024, 7, 30): ('Pirates', 'Reds', 3, 1), datetime.date(2024, 9, 10): ('Orioles', 'Reds', 3, 1), datetime.date(2024, 7, 5): ('Phillies', 'Reds', 4, 1), datetime.date(2024, 8, 30): ('Pirates', 'Reds', 4, 1), datetime.date(2024, 8, 2): ('Reds', 'Pirates', 3, 2), datetime.date(2024, 7, 23): ('Rays', 'Reds', 3, 1), datetime.date(2024, 9, 13): ('Brewers', 'Reds', 4, 1), datetime.date(2024, 8, 9): ('Reds', 'Rockies', 4, 1), datetime.date(2024, 5, 3): ('Padres', 'Reds', 4, 1), datetime.date(2024, 9, 6): ('Braves', 'Reds', 4, 1), datetime.date(2024, 6, 21): ('Reds', 'Twins', 2, 1), datetime.date(2024, 8, 16): ('Nationals', 'Reds', 3, 1), datetime.date(2024, 6, 28): ('Rockies', 'Reds', 3, 1), datetime.date(2024, 7, 12): ('Reds', 'Cardinals', 3, 1), datetime.date(2024, 5, 17): ('Reds', 'Marlins', 3, 1), datetime.date(2024, 3, 22): ('Twins', 'Reds', 2, 1), datetime.date(2024, 6, 25): ('Reds', 'White Sox', 3, 1), datetime.date(2024, 5, 14): ('Reds', 'Giants', 3, 1), datetime.date(2024, 7, 9): ('Reds', 'Brewers', 3, 1), datetime.date(2024, 7, 2): ('Blue Jays', 'Reds', 3, 1), datetime.date(2024, 6, 18): ('Reds', 'Royals', 3, 1), datetime.date(2024, 4, 30): ('Dodgers', 'Reds', 3, 1), datetime.date(2024, 9, 3): ('Reds', 'Padres', 3, 1), datetime.date(2024, 6, 11): ('Reds', 'Tigers', 3, 1), datetime.date(2024, 4, 16): ('Athletics', 'Reds', 3, 1), datetime.date(2024, 4, 9): ('Reds', 'Braves', 3, 1), datetime.date(2024, 8, 6): ('Reds', 'Yankees', 3, 1), datetime.date(2024, 5, 7): ('Angels', 'Reds', 3, 1), datetime.date(2024, 6, 4): ('Astros', 'Reds', 3, 1)}, 'Rockies': {datetime.date(2024, 4, 30): ('Angels', 'Rockies', 3, 1), datetime.date(2024, 7, 2): ('Rockies', 'Cubs', 3, 1), datetime.date(2024, 6, 4): ('Nationals', 'Rockies', 3, 1), datetime.date(2024, 4, 2): ('Rockies', 'Athletics', 2, 1), datetime.date(2024, 8, 23): ('Rangers', 'Rockies', 3, 1), datetime.date(2024, 7, 5): ('Dodgers', 'Rockies', 4, 1), datetime.date(2024, 4, 19): ('Brewers', 'Rockies', 3, 1), datetime.date(2024, 8, 2): ('Rockies', 'Brewers', 3, 1), datetime.date(2024, 4, 9): ('Cardinals', 'Rockies', 3, 1), datetime.date(2024, 6, 28): ('Rockies', 'Reds', 3, 1), datetime.date(2024, 4, 12): ('Giants', 'Rockies', 4, 1), datetime.date(2024, 6, 21): ('Rockies', 'Diamondbacks', 3, 1), datetime.date(2024, 3, 29): ('Padres', 'Rockies', 4, 1), datetime.date(2024, 8, 30): ('Diamondbacks', 'Rockies', 3, 1), datetime.date(2024, 7, 12): ('Rays', 'Rockies', 3, 1), datetime.date(2024, 6, 18): ('Rockies', 'Dodgers', 3, 2), datetime.date(2024, 8, 20): ('Rockies', 'Padres', 3, 2), datetime.date(2024, 6, 14): ('Red Sox', 'Rockies', 3, 1), datetime.date(2024, 5, 17): ('Rockies', 'Giants', 3, 1), datetime.date(2024, 9, 20): ('Giants', 'Rockies', 3, 1), datetime.date(2024, 9, 13): ('Guardians', 'Rockies', 3, 1), datetime.date(2024, 5, 7): ('Rockies', 'Marlins', 3, 1), datetime.date(2024, 6, 11): ('Marlins', 'Rockies', 3, 1), datetime.date(2024, 4, 26): ('Mets', 'Rockies', 4, 1), datetime.date(2024, 3, 22): ('Rockies', 'Nationals', 3, 1), datetime.date(2024, 8, 6): ('Orioles', 'Rockies', 3, 1), datetime.date(2024, 4, 23): ('Padres', 'Rockies', 3, 1), datetime.date(2024, 7, 23): ('Rockies', 'Padres', 3, 1), datetime.date(2024, 6, 7): ('Pirates', 'Rockies', 3, 1), datetime.date(2024, 5, 21): ('Phillies', 'Rockies', 3, 1), datetime.date(2024, 5, 24): ('Rockies', 'Pirates', 3, 1), datetime.date(2024, 8, 9): ('Reds', 'Rockies', 4, 1), datetime.date(2024, 7, 26): ('Diamondbacks', 'Rockies', 4, 1), datetime.date(2024, 5, 10): ('Braves', 'Rockies', 4, 1), datetime.date(2024, 8, 16): ('Cubs', 'Rockies', 4, 1), datetime.date(2024, 5, 3): ('Mariners', 'Rockies', 3, 1), datetime.date(2024, 4, 5): ('Athletics', 'Rockies', 2, 1), datetime.date(2024, 9, 6): ('Rockies', 'Tigers', 3, 1), datetime.date(2024, 5, 31): ('Blue Jays', 'Rockies', 3, 1), datetime.date(2024, 9, 10): ('Dodgers', 'Rockies', 3, 1), datetime.date(2024, 3, 19): ('Rockies', 'Giants', 3, 2), datetime.date(2024, 6, 25): ('Rockies', 'Diamondbacks', 3, 2), datetime.date(2024, 7, 9): ('Rockies', 'Royals', 3, 1), datetime.date(2024, 5, 28): ('Rockies', 'Mets', 3, 1), datetime.date(2024, 3, 26): ('Rockies', 'Braves', 3, 1), datetime.date(2024, 8, 13): ('Rockies', 'Cardinals', 3, 1), datetime.date(2024, 8, 27): ('Rockies', 'Phillies', 3, 1), datetime.date(2024, 4, 16): ('Rockies', 'Yankees', 3, 1), datetime.date(2024, 7, 30): ('Astros', 'Rockies', 3, 1), datetime.date(2024, 9, 17): ('Rockies', 'White Sox', 3, 1), datetime.date(2024, 5, 14): ('Rockies', 'Twins', 3, 1), datetime.date(2024, 9, 3): ('Rockies', 'Dodgers', 3, 1)}, 'Royals': {datetime.date(2024, 9, 13): ('Royals', 'Yankees', 3, 1), datetime.date(2024, 6, 25): ('Royals', 'Angels', 3, 1), datetime.date(2024, 8, 9): ('Guardians', 'Royals', 4, 1), datetime.date(2024, 4, 19): ('Royals', 'Astros', 3, 1), datetime.date(2024, 3, 29): ('Royals', 'Athletics', 3, 1), datetime.date(2024, 4, 12): ('Red Sox', 'Royals', 4, 1), datetime.date(2024, 5, 3): ('Royals', 'Blue Jays', 3, 1), datetime.date(2024, 4, 2): ('Rays', 'Royals', 3, 1), datetime.date(2024, 8, 6): ('Braves', 'Royals', 3, 1), datetime.date(2024, 8, 20): ('Royals', 'Orioles', 3, 1), datetime.date(2024, 4, 23): ('Pirates', 'Royals', 3, 1), datetime.date(2024, 9, 20): ('Royals', 'Cubs', 2, 1), datetime.date(2024, 3, 26): ('Dodgers', 'Royals', 3, 1), datetime.date(2024, 6, 4): ('Giants', 'Royals', 3, 1), datetime.date(2024, 6, 28): ('Guardians', 'Royals', 3, 1), datetime.date(2024, 8, 27): ('Royals', 'Guardians', 3, 1), datetime.date(2024, 7, 30): ('Royals', 'Red Sox', 3, 1), datetime.date(2024, 7, 23): ('Mariners', 'Royals', 3, 1), datetime.date(2024, 9, 17): ('Marlins', 'Royals', 3, 1), datetime.date(2024, 8, 23): ('Mets', 'Royals', 3, 1), datetime.date(2024, 4, 5): ('Nationals', 'Royals', 3, 1), datetime.date(2024, 4, 26): ('Orioles', 'Royals', 4, 1), datetime.date(2024, 6, 11): ('Padres', 'Royals', 3, 1), datetime.date(2024, 8, 2): ('Phillies', 'Royals', 3, 1), datetime.date(2024, 3, 22): ('Royals', 'Rangers', 3, 1), datetime.date(2024, 5, 31): ('Rangers', 'Royals', 3, 1), datetime.date(2024, 5, 17): ('Royals', 'Rays', 3, 1), datetime.date(2024, 6, 18): ('Reds', 'Royals', 3, 1), datetime.date(2024, 7, 9): ('Rockies', 'Royals', 3, 1), datetime.date(2024, 7, 12): ('Astros', 'Royals', 4, 1), datetime.date(2024, 6, 14): ('Royals', 'White Sox', 4, 1), datetime.date(2024, 5, 24): ('Royals', 'Tigers', 4, 1), datetime.date(2024, 7, 26): ('Royals', 'Twins', 4, 1), datetime.date(2024, 8, 16): ('Athletics', 'Royals', 3, 1), datetime.date(2024, 5, 10): ('Twins', 'Royals', 3, 1), datetime.date(2024, 9, 6): ('Twins', 'Royals', 3, 2), datetime.date(2024, 7, 5): ('Tigers', 'Royals', 3, 1), datetime.date(2024, 6, 21): ('Blue Jays', 'Royals', 3, 1), datetime.date(2024, 8, 30): ('Royals', 'Mariners', 3, 1), datetime.date(2024, 6, 7): ('Royals', 'White Sox', 3, 1), datetime.date(2024, 5, 7): ('Twins', 'Royals', 3, 1), datetime.date(2024, 4, 30): ('Royals', 'Yankees', 3, 1), datetime.date(2024, 7, 2): ('White Sox', 'Royals', 3, 1), datetime.date(2024, 5, 28): ('White Sox', 'Royals', 3, 2), datetime.date(2024, 9, 10): ('White Sox', 'Royals', 3, 1), datetime.date(2024, 5, 21): ('Diamondbacks', 'Royals', 3, 1), datetime.date(2024, 4, 16): ('Royals', 'Tigers', 3, 1), datetime.date(2024, 4, 9): ('Royals', 'Twins', 3, 1), datetime.date(2024, 3, 19): ('Royals', 'Guardians', 3, 2), datetime.date(2024, 9, 3): ('Brewers', 'Royals', 3, 1), datetime.date(2024, 8, 13): ('Cubs', 'Royals', 2, 1), datetime.date(2024, 5, 14): ('Tigers', 'Royals', 3, 2)}, 'Tigers': {datetime.date(2024, 4, 19): ('Angels', 'Tigers', 4, 1), datetime.date(2024, 6, 4): ('Tigers', 'Angels', 3, 1), datetime.date(2024, 5, 24): ('Royals', 'Tigers', 4, 1), datetime.date(2024, 6, 18): ('Tigers', 'Astros', 3, 1), datetime.date(2024, 6, 28): ('Athletics', 'Tigers', 4, 1), datetime.date(2024, 5, 17): ('Tigers', 'Athletics', 3, 1), datetime.date(2024, 7, 5): ('Tigers', 'Royals', 3, 1), datetime.date(2024, 5, 31): ('Orioles', 'Tigers', 4, 1), datetime.date(2024, 3, 29): ('Braves', 'Tigers', 3, 1), datetime.date(2024, 7, 12): ('Tigers', 'Brewers', 2, 1), datetime.date(2024, 5, 21): ('Brewers', 'Tigers', 2, 1), datetime.date(2024, 8, 6): ('Rangers', 'Tigers', 3, 1), datetime.date(2024, 9, 6): ('Rockies', 'Tigers', 3, 1), datetime.date(2024, 6, 14): ('Diamondbacks', 'Tigers', 3, 1), datetime.date(2024, 7, 26): ('Dodgers', 'Tigers', 3, 1), datetime.date(2024, 3, 22): ('Giants', 'Tigers', 3, 1), datetime.date(2024, 3, 26): ('Tigers', 'Rays', 3, 1), datetime.date(2024, 9, 17): ('Padres', 'Tigers', 3, 1), datetime.date(2024, 8, 2): ('Mariners', 'Tigers', 3, 1), datetime.date(2024, 7, 2): ('Tigers', 'Rangers', 3, 1), datetime.date(2024, 7, 30): ('Marlins', 'Tigers', 3, 1), datetime.date(2024, 6, 21): ('Tigers', 'Orioles', 3, 1), datetime.date(2024, 6, 7): ('Nationals', 'Tigers', 3, 1), datetime.date(2024, 4, 23): ('Phillies', 'Tigers', 3, 1), datetime.date(2024, 7, 23): ('Pirates', 'Tigers', 3, 1), datetime.date(2024, 4, 5): ('Rays', 'Tigers', 3, 1), datetime.date(2024, 4, 26): ('Tigers', 'Red Sox', 3, 1), datetime.date(2024, 8, 16): ('Red Sox', 'Tigers', 3, 1), datetime.date(2024, 6, 11): ('Reds', 'Tigers', 3, 1), datetime.date(2024, 4, 16): ('Royals', 'Tigers', 3, 1), datetime.date(2024, 5, 14): ('Tigers', 'Royals', 3, 2), datetime.date(2024, 8, 23): ('Blue Jays', 'Tigers', 4, 1), datetime.date(2024, 8, 9): ('Tigers', 'Twins', 4, 1), datetime.date(2024, 5, 3): ('Guardians', 'Tigers', 4, 1), datetime.date(2024, 8, 30): ('Tigers', 'White Sox', 4, 1), datetime.date(2024, 5, 10): ('Tigers', 'Twins', 3, 1), datetime.date(2024, 9, 13): ('Mets', 'Tigers', 3, 1), datetime.date(2024, 4, 12): ('Cubs', 'Tigers', 3, 1), datetime.date(2024, 9, 20): ('White Sox', 'Tigers', 3, 1), datetime.date(2024, 9, 3): ('Tigers', 'Blue Jays', 3, 1), datetime.date(2024, 4, 2): ('Cardinals', 'Tigers', 3, 1), datetime.date(2024, 6, 25): ('Tigers', 'Guardians', 3, 1), datetime.date(2024, 4, 30): ('Tigers', 'Yankees', 3, 1), datetime.date(2024, 8, 20): ('Twins', 'Tigers', 3, 1), datetime.date(2024, 8, 27): ('Tigers', 'White Sox', 3, 1), datetime.date(2024, 5, 28): ('Yankees', 'Tigers', 3, 1), datetime.date(2024, 9, 10): ('Guardians', 'Tigers', 3, 1), datetime.date(2024, 8, 13): ('Tigers', 'Mariners', 3, 1), datetime.date(2024, 4, 9): ('Astros', 'Tigers', 3, 1), datetime.date(2024, 5, 7): ('Tigers', 'Guardians', 3, 2), datetime.date(2024, 7, 9): ('White Sox', 'Tigers', 3, 2), datetime.date(2024, 3, 19): ('Twins', 'Tigers', 3, 2)}, 'Twins': {datetime.date(2024, 5, 24): ('Guardians', 'Twins', 3, 1), datetime.date(2024, 4, 16): ('Brewers', 'Twins', 3, 1), datetime.date(2024, 8, 2): ('Astros', 'Twins', 3, 1), datetime.date(2024, 7, 23): ('Twins', 'Astros', 3, 1), datetime.date(2024, 8, 13): ('Twins', 'Athletics', 3, 1), datetime.date(2024, 5, 21): ('Athletics', 'Twins', 3, 1), datetime.date(2024, 3, 19): ('Twins', 'Tigers', 3, 2), datetime.date(2024, 4, 30): ('Twins', 'Rays', 3, 1), datetime.date(2024, 8, 20): ('Twins', 'Tigers', 3, 1), datetime.date(2024, 6, 7): ('Guardians', 'Twins', 4, 1), datetime.date(2024, 3, 22): ('Twins', 'Reds', 2, 1), datetime.date(2024, 5, 28): ('Phillies', 'Twins', 3, 1), datetime.date(2024, 5, 31): ('Giants', 'Twins', 3, 1), datetime.date(2024, 7, 26): ('Royals', 'Twins', 4, 1), datetime.date(2024, 6, 25): ('Twins', 'Rangers', 3, 1), datetime.date(2024, 9, 17): ('Twins', 'Mariners', 3, 1), datetime.date(2024, 6, 4): ('Marlins', 'Twins', 3, 1), datetime.date(2024, 9, 3): ('Mets', 'Twins', 3, 1), datetime.date(2024, 4, 26): ('Rangers', 'Twins', 4, 1), datetime.date(2024, 7, 30): ('Orioles', 'Twins', 3, 1), datetime.date(2024, 4, 23): ('Twins', 'Orioles', 3, 1), datetime.date(2024, 9, 20): ('Padres', 'Twins', 3, 1), datetime.date(2024, 8, 23): ('Rays', 'Twins', 4, 1), datetime.date(2024, 7, 12): ('Red Sox', 'Twins', 3, 1), datetime.date(2024, 6, 21): ('Reds', 'Twins', 2, 1), datetime.date(2024, 5, 14): ('Rockies', 'Twins', 3, 1), datetime.date(2024, 5, 10): ('Tigers', 'Twins', 3, 1), datetime.date(2024, 9, 6): ('Twins', 'Royals', 3, 2), datetime.date(2024, 4, 9): ('Royals', 'Twins', 3, 1), datetime.date(2024, 8, 9): ('Tigers', 'Twins', 4, 1), datetime.date(2024, 4, 5): ('Mariners', 'Twins', 4, 1), datetime.date(2024, 4, 19): ('Twins', 'Yankees', 4, 1), datetime.date(2024, 3, 29): ('Twins', 'White Sox', 4, 1), datetime.date(2024, 8, 16): ('Twins', 'White Sox', 3, 1), datetime.date(2024, 5, 3): ('Yankees', 'Twins', 3, 1), datetime.date(2024, 4, 12): ('Twins', 'Guardians', 3, 1), datetime.date(2024, 7, 5): ('Twins', 'Red Sox', 3, 1), datetime.date(2024, 6, 28): ('Diamondbacks', 'Twins', 3, 1), datetime.date(2024, 6, 14): ('Twins', 'Blue Jays', 3, 1), datetime.date(2024, 5, 17): ('Braves', 'Twins', 3, 1), datetime.date(2024, 9, 13): ('White Sox', 'Twins', 3, 2), datetime.date(2024, 8, 30): ('Dodgers', 'Twins', 3, 1), datetime.date(2024, 7, 2): ('Nationals', 'Twins', 3, 1), datetime.date(2024, 5, 7): ('Twins', 'Royals', 3, 1), datetime.date(2024, 4, 2): ('Cardinals', 'Twins', 3, 1), datetime.date(2024, 6, 18): ('Twins', 'Angels', 3, 1), datetime.date(2024, 8, 27): ('Angels', 'Twins', 3, 1), datetime.date(2024, 7, 9): ('Blue Jays', 'Twins', 3, 1), datetime.date(2024, 8, 6): ('Cubs', 'Twins', 3, 1), datetime.date(2024, 9, 10): ('White Sox', 'Twins', 3, 1), datetime.date(2024, 3, 26): ('Pirates', 'Twins', 3, 1), datetime.date(2024, 6, 11): ('Twins', 'Guardians', 3, 2)}, 'White Sox': {datetime.date(2024, 4, 26): ('White Sox', 'Angels', 3, 1), datetime.date(2024, 4, 9): ('White Sox', 'Guardians', 3, 1), datetime.date(2024, 8, 13): ('Orioles', 'White Sox', 3, 1), datetime.date(2024, 4, 30): ('White Sox', 'Astros', 3, 1), datetime.date(2024, 6, 14): ('Royals', 'White Sox', 4, 1), datetime.date(2024, 9, 3): ('Rangers', 'White Sox', 3, 1), datetime.date(2024, 5, 17): ('Cardinals', 'White Sox', 3, 1), datetime.date(2024, 6, 18): ('Rays', 'White Sox', 3, 1), datetime.date(2024, 5, 31): ('Brewers', 'White Sox', 3, 1), datetime.date(2024, 5, 21): ('Pirates', 'White Sox', 2, 1), datetime.date(2024, 5, 10): ('Guardians', 'White Sox', 4, 1), datetime.date(2024, 6, 4): ('Dodgers', 'White Sox', 3, 1), datetime.date(2024, 5, 24): ('Giants', 'White Sox', 3, 1), datetime.date(2024, 4, 5): ('Guardians', 'White Sox', 3, 1), datetime.date(2024, 5, 28): ('White Sox', 'Royals', 3, 2), datetime.date(2024, 8, 9): ('White Sox', 'Red Sox', 3, 1), datetime.date(2024, 6, 7): ('Royals', 'White Sox', 3, 1), datetime.date(2024, 7, 23): ('Mets', 'White Sox', 3, 1), datetime.date(2024, 3, 26): ('Nationals', 'White Sox', 3, 1), datetime.date(2024, 5, 3): ('White Sox', 'Orioles', 3, 1), datetime.date(2024, 5, 7): ('Padres', 'White Sox', 3, 1), datetime.date(2024, 6, 21): ('White Sox', 'Rangers', 3, 1), datetime.date(2024, 4, 19): ('White Sox', 'Pirates', 2, 1), datetime.date(2024, 3, 19): ('White Sox', 'Rays', 3, 1), datetime.date(2024, 4, 16): ('Red Sox', 'White Sox', 3, 1), datetime.date(2024, 6, 25): ('Reds', 'White Sox', 3, 1), datetime.date(2024, 9, 17): ('Rockies', 'White Sox', 3, 1), datetime.date(2024, 9, 10): ('White Sox', 'Twins', 3, 1), datetime.date(2024, 8, 30): ('Tigers', 'White Sox', 4, 1), datetime.date(2024, 9, 20): ('White Sox', 'Tigers', 3, 1), datetime.date(2024, 8, 27): ('Tigers', 'White Sox', 3, 1), datetime.date(2024, 7, 9): ('White Sox', 'Tigers', 3, 2), datetime.date(2024, 3, 29): ('Twins', 'White Sox', 4, 1), datetime.date(2024, 8, 16): ('Twins', 'White Sox', 3, 1), datetime.date(2024, 9, 13): ('White Sox', 'Twins', 3, 2), datetime.date(2024, 4, 12): ('Blue Jays', 'White Sox', 4, 1), datetime.date(2024, 7, 26): ('Athletics', 'White Sox', 4, 1), datetime.date(2024, 7, 5): ('Mariners', 'White Sox', 4, 1), datetime.date(2024, 8, 2): ('White Sox', 'Yankees', 4, 1), datetime.date(2024, 9, 6): ('Phillies', 'White Sox', 3, 1), datetime.date(2024, 6, 28): ('White Sox', 'Blue Jays', 3, 1), datetime.date(2024, 8, 23): ('Astros', 'White Sox', 3, 1), datetime.date(2024, 3, 22): ('Angels', 'White Sox', 3, 1), datetime.date(2024, 7, 12): ('White Sox', 'Mariners', 3, 1), datetime.date(2024, 7, 30): ('Diamondbacks', 'White Sox', 3, 1), datetime.date(2024, 5, 14): ('Cubs', 'White Sox', 3, 1), datetime.date(2024, 8, 20): ('White Sox', 'Guardians', 3, 2), datetime.date(2024, 4, 23): ('Marlins', 'White Sox', 3, 1), datetime.date(2024, 6, 11): ('Yankees', 'White Sox', 3, 1), datetime.date(2024, 7, 2): ('White Sox', 'Royals', 3, 1), datetime.date(2024, 4, 2): ('Braves', 'White Sox', 3, 1), datetime.date(2024, 8, 6): ('White Sox', 'Athletics', 3, 1)}, 'Yankees': {datetime.date(2024, 9, 6): ('Angels', 'Yankees', 4, 1), datetime.date(2024, 7, 5): ('Padres', 'Yankees', 3, 1), datetime.date(2024, 7, 12): ('Pirates', 'Yankees', 3, 1), datetime.date(2024, 7, 26): ('Astros', 'Yankees', 3, 1), datetime.date(2024, 4, 19): ('Twins', 'Yankees', 4, 1), datetime.date(2024, 6, 14): ('Blue Jays', 'Yankees', 4, 1), datetime.date(2024, 8, 16): ('Rays', 'Yankees', 4, 1), datetime.date(2024, 5, 28): ('Yankees', 'Tigers', 3, 1), datetime.date(2024, 5, 7): ('Yankees', 'Royals', 3, 1), datetime.date(2024, 8, 9): ('Rangers', 'Yankees', 3, 1), datetime.date(2024, 5, 10): ('Yankees', 'Orioles', 3, 1), datetime.date(2024, 6, 11): ('Yankees', 'White Sox', 3, 1), datetime.date(2024, 3, 26): ('Yankees', 'Red Sox', 3, 2), datetime.date(2024, 9, 3): ('Diamondbacks', 'Yankees', 3, 1), datetime.date(2024, 6, 25): ('Dodgers', 'Yankees', 3, 1), datetime.date(2024, 7, 23): ('Giants', 'Yankees', 3, 1), datetime.date(2024, 5, 21): ('Yankees', 'Guardians', 3, 1), datetime.date(2024, 8, 20): ('Yankees', 'Rays', 3, 2), datetime.date(2024, 9, 20): ('Yankees', 'Red Sox', 3, 1), datetime.date(2024, 4, 12): ('Marlins', 'Yankees', 3, 1), datetime.date(2024, 6, 21): ('Nationals', 'Yankees', 3, 1), datetime.date(2024, 8, 23): ('Orioles', 'Yankees', 4, 1), datetime.date(2024, 4, 2): ('Yankees', 'Orioles', 3, 2), datetime.date(2024, 4, 9): ('Orioles', 'Yankees', 3, 1), datetime.date(2024, 4, 26): ('Yankees', 'Phillies', 2, 1), datetime.date(2024, 6, 7): ('Yankees', 'Rays', 3, 1), datetime.date(2024, 8, 30): ('Rays', 'Yankees', 3, 1), datetime.date(2024, 5, 31): ('Red Sox', 'Yankees', 4, 1), datetime.date(2024, 9, 17): ('Red Sox', 'Yankees', 3, 1), datetime.date(2024, 8, 6): ('Reds', 'Yankees', 3, 1), datetime.date(2024, 4, 16): ('Rockies', 'Yankees', 3, 1), datetime.date(2024, 4, 30): ('Tigers', 'Yankees', 3, 1), datetime.date(2024, 5, 3): ('Yankees', 'Twins', 3, 1), datetime.date(2024, 8, 2): ('White Sox', 'Yankees', 4, 1), datetime.date(2024, 5, 17): ('Athletics', 'Yankees', 4, 1), datetime.date(2024, 4, 5): ('Yankees', 'Mariners', 3, 1), datetime.date(2024, 3, 22): ('Mets', 'Yankees', 3, 1), datetime.date(2024, 9, 13): ('Royals', 'Yankees', 3, 1), datetime.date(2024, 6, 28): ('Yankees', 'Athletics', 3, 1), datetime.date(2024, 3, 29): ('Yankees', 'Blue Jays', 3, 1), datetime.date(2024, 5, 24): ('Yankees', 'Rangers', 3, 1), datetime.date(2024, 6, 4): ('Blue Jays', 'Yankees', 3, 1), datetime.date(2024, 8, 13): ('Phillies', 'Yankees', 2, 1), datetime.date(2024, 7, 30): ('Cardinals', 'Yankees', 3, 1), datetime.date(2024, 4, 23): ('Braves', 'Yankees', 3, 1), datetime.date(2024, 9, 10): ('Yankees', 'Astros', 3, 1), datetime.date(2024, 6, 18): ('Yankees', 'Blue Jays', 3, 2), datetime.date(2024, 3, 19): ('Yankees', 'Angels', 3, 1), datetime.date(2024, 5, 14): ('Guardians', 'Yankees', 3, 1), datetime.date(2024, 7, 2): ('Mariners', 'Yankees', 3, 1), datetime.date(2024, 7, 9): ('Brewers', 'Yankees', 3, 1), datetime.date(2024, 8, 27): ('Cubs', 'Yankees', 3, 1)}}"
   ]
  },
  {
   "cell_type": "code",
   "execution_count": 88,
   "metadata": {},
   "outputs": [],
   "source": [
    "for team in dic.keys():\n",
    "    if len(dic[team]) != 52:\n",
    "        print(team, len(dic[team]))"
   ]
  },
  {
   "cell_type": "code",
   "execution_count": 89,
   "metadata": {},
   "outputs": [
    {
     "data": {
      "text/plain": [
       "43"
      ]
     },
     "execution_count": 89,
     "metadata": {},
     "output_type": "execute_result"
    }
   ],
   "source": [
    "len(set(dic[\"Angels\"].values()))"
   ]
  },
  {
   "cell_type": "code",
   "execution_count": 90,
   "metadata": {},
   "outputs": [],
   "source": [
    "df = pd.DataFrame(dic)"
   ]
  },
  {
   "cell_type": "code",
   "execution_count": 97,
   "metadata": {},
   "outputs": [
    {
     "data": {
      "text/plain": [
       "2024-06-28         (Giants, Pirates, 4, 1)\n",
       "2024-09-06          (Giants, Padres, 4, 1)\n",
       "2024-07-05         (Giants, Pirates, 4, 1)\n",
       "2024-08-23         (Dodgers, Giants, 4, 1)\n",
       "2024-05-10       (Cardinals, Giants, 4, 1)\n",
       "2024-04-12         (Giants, Rockies, 4, 1)\n",
       "2024-07-26    (Diamondbacks, Giants, 4, 1)\n",
       "2024-08-30       (Giants, Nationals, 4, 1)\n",
       "Name: Giants, dtype: object"
      ]
     },
     "execution_count": 97,
     "metadata": {},
     "output_type": "execute_result"
    }
   ],
   "source": [
    "l = [x[2] == 4 for x in df[\"Giants\"]]\n",
    "df[l][\"Giants\"]"
   ]
  },
  {
   "cell_type": "code",
   "execution_count": 100,
   "metadata": {},
   "outputs": [
    {
     "data": {
      "text/plain": [
       "dict_values([('Angels', 'Athletics', 4, 1), ('Angels', 'Mets', 3, 1), ('Angels', 'Royals', 4, 1), ('Angels', 'Mariners', 4, 1), ('Angels', 'Tigers', 4, 1), ('Angels', 'Astros', 4, 1), ('Angels', 'Rangers', 4, 1), ('Angels', 'Yankees', 4, 1), ('Angels', 'White Sox', 3, 1), ('Angels', 'Dodgers', 3, 1), ('White Sox', 'Angels', 3, 1), ('Angels', 'Marlins', 3, 1), ('Rays', 'Angels', 3, 1), ('Giants', 'Angels', 2, 1), ('Angels', 'Braves', 3, 1), ('Angels', 'Cardinals', 3, 1), ('Astros', 'Angels', 3, 1), ('Angels', 'Red Sox', 3, 1), ('Blue Jays', 'Angels', 3, 1), ('Angels', 'Rangers', 3, 1), ('Angels', 'Padres', 3, 1), ('Angels', 'Athletics', 3, 1), ('Angels', 'Rays', 3, 1), ('Angels', 'Phillies', 3, 1), ('Angels', 'Astros', 3, 1), ('Twins', 'Angels', 3, 1), ('Angels', 'White Sox', 3, 1), ('Angels', 'Mets', 3, 1), ('Angels', 'Reds', 3, 1), ('Angels', 'Nationals', 3, 1), ('Angels', 'Cubs', 3, 1), ('Angels', 'Mariners', 3, 1), ('Yankees', 'Angels', 3, 1), ('Angels', 'Reds', 3, 1), ('Angels', 'Orioles', 3, 1), ('Twins', 'Angels', 3, 1), ('Red Sox', 'Angels', 3, 1), ('Angels', 'Twins', 3, 1), ('Mariners', 'Angels', 3, 1), ('Angels', 'Rays', 3, 1), ('Angels', 'Rockies', 3, 1), ('Rays', 'Angels', 3, 1), ('Tigers', 'Angels', 3, 1), ('Angels', 'Rangers', 3, 1), ('Athletics', 'Angels', 3, 1), ('Royals', 'Angels', 3, 1), ('Rangers', 'Angels', 3, 2), ('Angels', 'Guardians', 3, 1), ('Giants', 'Angels', 2, 1), ('Athletics', 'Angels', 3, 2), ('Angels', 'Twins', 3, 1), ('Rangers', 'Angels', 3, 1)])"
      ]
     },
     "execution_count": 100,
     "metadata": {},
     "output_type": "execute_result"
    }
   ],
   "source": [
    "dic[\"Angels\"].values()"
   ]
  },
  {
   "cell_type": "code",
   "execution_count": 6,
   "metadata": {},
   "outputs": [],
   "source": [
    "import numpy as np"
   ]
  },
  {
   "cell_type": "code",
   "execution_count": 30,
   "metadata": {},
   "outputs": [
    {
     "data": {
      "text/plain": [
       "{'SP': 19, 'RP': 31, 'C': 8, 'IF': 23, 'OF': 19}"
      ]
     },
     "execution_count": 30,
     "metadata": {},
     "output_type": "execute_result"
    }
   ],
   "source": [
    "roster_size = 100\n",
    "\n",
    "typical_roster = {\n",
    "    'SP': 5,\n",
    "    'RP': 8,\n",
    "    'C': 2,\n",
    "    'IF': 6,\n",
    "    'OF': 5\n",
    "}\n",
    "\n",
    "roster = {\n",
    "    'SP': 5,\n",
    "    'RP': 8,\n",
    "    'C': 2,\n",
    "    'IF': 6,\n",
    "    'OF': 5\n",
    "}\n",
    "\n",
    "while sum(roster.values()) != roster_size:\n",
    "    distances = {\n",
    "        key: typical_roster[key] * roster_size / 26 - roster[key] for key in typical_roster\n",
    "    }\n",
    "    min_dist = min(distances.values())\n",
    "    max_dist = max(distances.values())\n",
    "    if np.abs(min_dist) > np.abs(max_dist):\n",
    "        argmin = min(distances, key = distances.get)\n",
    "        roster[argmin] -= 1\n",
    "    else:\n",
    "        argmax = max(distances, key = distances.get)\n",
    "        roster[argmax] += 1\n",
    "\n",
    "roster"
   ]
  },
  {
   "cell_type": "code",
   "execution_count": 27,
   "metadata": {},
   "outputs": [
    {
     "data": {
      "text/plain": [
       "0.05204081632653061"
      ]
     },
     "execution_count": 27,
     "metadata": {},
     "output_type": "execute_result"
    }
   ],
   "source": [
    "roster_size = 100\n",
    "\n",
    "typical_roster = {\n",
    "    'SP': 5,\n",
    "    'RP': 31,\n",
    "    'C': 2,\n",
    "    'IF': 6,\n",
    "    'OF': 5\n",
    "}\n",
    "\n",
    "typical_roster[]"
   ]
  }
 ],
 "metadata": {
  "kernelspec": {
   "display_name": "Python 3",
   "language": "python",
   "name": "python3"
  },
  "language_info": {
   "codemirror_mode": {
    "name": "ipython",
    "version": 3
   },
   "file_extension": ".py",
   "mimetype": "text/x-python",
   "name": "python",
   "nbconvert_exporter": "python",
   "pygments_lexer": "ipython3",
   "version": "3.10.11"
  }
 },
 "nbformat": 4,
 "nbformat_minor": 2
}
